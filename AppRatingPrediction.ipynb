{
 "cells": [
  {
   "cell_type": "markdown",
   "metadata": {},
   "source": [
    "<h1>App Rating Prediction<h1>"
   ]
  },
  {
   "cell_type": "markdown",
   "metadata": {},
   "source": [
    "<b>Objective<b>: \n",
    "\n",
    "Make a model to predict the app rating, with other information about the app provided.\n",
    "\n",
    "<b>Problem Statement<b>:\n",
    "\n",
    "Google Play Store team is about to launch a new feature wherein, certain apps that are promising, are boosted in visibility. The boost will manifest in multiple ways including higher priority in recommendations sections (“Similar apps”, “You might also like”, “New and updated games”). These will also get a boost in search results visibility.  This feature will help bring more attention to newer apps that have the potential.\n",
    "\n",
    "Domain:    General\n",
    "\n",
    "<b>Analysis to be done: \n",
    "\n",
    "The problem is to identify the apps that are going to be good for Google to promote. App ratings, which are provided by the customers, is always a great indicator of the goodness of the app. The problem reduces to: predict which apps will have high ratings.\n",
    "\n",
    "Content:    Dataset: Google Play Store data (“googleplaystore.csv”)\n",
    "\n",
    "<b>Fields in the data<b> –\n",
    "\n",
    "App: Application name\n",
    "\n",
    "Category: Category to which the app belongs \n",
    "\n",
    "Rating: Overall user rating of the app\n",
    "\n",
    "Reviews: Number of user reviews for the app\n",
    "\n",
    "Size: Size of the app\n",
    "\n",
    "Installs: Number of user downloads/installs for the app\n",
    "\n",
    "Type: Paid or Free\n",
    "\n",
    "Price: Price of the app\n",
    "\n",
    "Content Rating: Age group the app is targeted at - Children / Mature 21+ / Adult\n",
    "\n",
    "Genres: An app can belong to multiple genres (apart from its main category). For example, a musical family game will belong to Music, Game, Family genres.\n",
    "\n",
    "Last Updated: Date when the app was last updated on Play Store\n",
    "\n",
    "Current Ver: Current version of the app available on Play Store\n",
    "\n",
    "Android Ver: Minimum required Android version"
   ]
  },
  {
   "cell_type": "markdown",
   "metadata": {},
   "source": [
    "#### Import the libraries"
   ]
  },
  {
   "cell_type": "code",
   "execution_count": 1,
   "metadata": {},
   "outputs": [],
   "source": [
    "import pandas as pd\n",
    "import numpy as np\n",
    "import matplotlib.pyplot as plt\n",
    "%matplotlib inline\n",
    "import seaborn as sns"
   ]
  },
  {
   "cell_type": "markdown",
   "metadata": {},
   "source": [
    "### Load the data file"
   ]
  },
  {
   "cell_type": "code",
   "execution_count": 2,
   "metadata": {},
   "outputs": [],
   "source": [
    "dataset = pd.read_csv(\"googleplaystore.csv\")"
   ]
  },
  {
   "cell_type": "code",
   "execution_count": 3,
   "metadata": {},
   "outputs": [
    {
     "data": {
      "text/html": [
       "<div>\n",
       "<style scoped>\n",
       "    .dataframe tbody tr th:only-of-type {\n",
       "        vertical-align: middle;\n",
       "    }\n",
       "\n",
       "    .dataframe tbody tr th {\n",
       "        vertical-align: top;\n",
       "    }\n",
       "\n",
       "    .dataframe thead th {\n",
       "        text-align: right;\n",
       "    }\n",
       "</style>\n",
       "<table border=\"1\" class=\"dataframe\">\n",
       "  <thead>\n",
       "    <tr style=\"text-align: right;\">\n",
       "      <th></th>\n",
       "      <th>App</th>\n",
       "      <th>Category</th>\n",
       "      <th>Rating</th>\n",
       "      <th>Reviews</th>\n",
       "      <th>Size</th>\n",
       "      <th>Installs</th>\n",
       "      <th>Type</th>\n",
       "      <th>Price</th>\n",
       "      <th>Content Rating</th>\n",
       "      <th>Genres</th>\n",
       "      <th>Last Updated</th>\n",
       "      <th>Current Ver</th>\n",
       "      <th>Android Ver</th>\n",
       "    </tr>\n",
       "  </thead>\n",
       "  <tbody>\n",
       "    <tr>\n",
       "      <th>0</th>\n",
       "      <td>Photo Editor &amp; Candy Camera &amp; Grid &amp; ScrapBook</td>\n",
       "      <td>ART_AND_DESIGN</td>\n",
       "      <td>4.1</td>\n",
       "      <td>159</td>\n",
       "      <td>19M</td>\n",
       "      <td>10,000+</td>\n",
       "      <td>Free</td>\n",
       "      <td>0</td>\n",
       "      <td>Everyone</td>\n",
       "      <td>Art &amp; Design</td>\n",
       "      <td>January 7, 2018</td>\n",
       "      <td>1.0.0</td>\n",
       "      <td>4.0.3 and up</td>\n",
       "    </tr>\n",
       "    <tr>\n",
       "      <th>1</th>\n",
       "      <td>Coloring book moana</td>\n",
       "      <td>ART_AND_DESIGN</td>\n",
       "      <td>3.9</td>\n",
       "      <td>967</td>\n",
       "      <td>14M</td>\n",
       "      <td>500,000+</td>\n",
       "      <td>Free</td>\n",
       "      <td>0</td>\n",
       "      <td>Everyone</td>\n",
       "      <td>Art &amp; Design;Pretend Play</td>\n",
       "      <td>January 15, 2018</td>\n",
       "      <td>2.0.0</td>\n",
       "      <td>4.0.3 and up</td>\n",
       "    </tr>\n",
       "    <tr>\n",
       "      <th>2</th>\n",
       "      <td>U Launcher Lite – FREE Live Cool Themes, Hide ...</td>\n",
       "      <td>ART_AND_DESIGN</td>\n",
       "      <td>4.7</td>\n",
       "      <td>87510</td>\n",
       "      <td>8.7M</td>\n",
       "      <td>5,000,000+</td>\n",
       "      <td>Free</td>\n",
       "      <td>0</td>\n",
       "      <td>Everyone</td>\n",
       "      <td>Art &amp; Design</td>\n",
       "      <td>August 1, 2018</td>\n",
       "      <td>1.2.4</td>\n",
       "      <td>4.0.3 and up</td>\n",
       "    </tr>\n",
       "    <tr>\n",
       "      <th>3</th>\n",
       "      <td>Sketch - Draw &amp; Paint</td>\n",
       "      <td>ART_AND_DESIGN</td>\n",
       "      <td>4.5</td>\n",
       "      <td>215644</td>\n",
       "      <td>25M</td>\n",
       "      <td>50,000,000+</td>\n",
       "      <td>Free</td>\n",
       "      <td>0</td>\n",
       "      <td>Teen</td>\n",
       "      <td>Art &amp; Design</td>\n",
       "      <td>June 8, 2018</td>\n",
       "      <td>Varies with device</td>\n",
       "      <td>4.2 and up</td>\n",
       "    </tr>\n",
       "    <tr>\n",
       "      <th>4</th>\n",
       "      <td>Pixel Draw - Number Art Coloring Book</td>\n",
       "      <td>ART_AND_DESIGN</td>\n",
       "      <td>4.3</td>\n",
       "      <td>967</td>\n",
       "      <td>2.8M</td>\n",
       "      <td>100,000+</td>\n",
       "      <td>Free</td>\n",
       "      <td>0</td>\n",
       "      <td>Everyone</td>\n",
       "      <td>Art &amp; Design;Creativity</td>\n",
       "      <td>June 20, 2018</td>\n",
       "      <td>1.1</td>\n",
       "      <td>4.4 and up</td>\n",
       "    </tr>\n",
       "  </tbody>\n",
       "</table>\n",
       "</div>"
      ],
      "text/plain": [
       "                                                 App        Category  Rating  \\\n",
       "0     Photo Editor & Candy Camera & Grid & ScrapBook  ART_AND_DESIGN     4.1   \n",
       "1                                Coloring book moana  ART_AND_DESIGN     3.9   \n",
       "2  U Launcher Lite – FREE Live Cool Themes, Hide ...  ART_AND_DESIGN     4.7   \n",
       "3                              Sketch - Draw & Paint  ART_AND_DESIGN     4.5   \n",
       "4              Pixel Draw - Number Art Coloring Book  ART_AND_DESIGN     4.3   \n",
       "\n",
       "  Reviews  Size     Installs  Type Price Content Rating  \\\n",
       "0     159   19M      10,000+  Free     0       Everyone   \n",
       "1     967   14M     500,000+  Free     0       Everyone   \n",
       "2   87510  8.7M   5,000,000+  Free     0       Everyone   \n",
       "3  215644   25M  50,000,000+  Free     0           Teen   \n",
       "4     967  2.8M     100,000+  Free     0       Everyone   \n",
       "\n",
       "                      Genres      Last Updated         Current Ver  \\\n",
       "0               Art & Design   January 7, 2018               1.0.0   \n",
       "1  Art & Design;Pretend Play  January 15, 2018               2.0.0   \n",
       "2               Art & Design    August 1, 2018               1.2.4   \n",
       "3               Art & Design      June 8, 2018  Varies with device   \n",
       "4    Art & Design;Creativity     June 20, 2018                 1.1   \n",
       "\n",
       "    Android Ver  \n",
       "0  4.0.3 and up  \n",
       "1  4.0.3 and up  \n",
       "2  4.0.3 and up  \n",
       "3    4.2 and up  \n",
       "4    4.4 and up  "
      ]
     },
     "execution_count": 3,
     "metadata": {},
     "output_type": "execute_result"
    }
   ],
   "source": [
    "dataset.head()"
   ]
  },
  {
   "cell_type": "code",
   "execution_count": 4,
   "metadata": {},
   "outputs": [
    {
     "data": {
      "text/plain": [
       "(10841, 13)"
      ]
     },
     "execution_count": 4,
     "metadata": {},
     "output_type": "execute_result"
    }
   ],
   "source": [
    "dataset.shape"
   ]
  },
  {
   "cell_type": "markdown",
   "metadata": {},
   "source": [
    "#### Drop duplicate rows"
   ]
  },
  {
   "cell_type": "code",
   "execution_count": 5,
   "metadata": {},
   "outputs": [],
   "source": [
    "dataset.drop_duplicates(inplace = True)"
   ]
  },
  {
   "cell_type": "code",
   "execution_count": 6,
   "metadata": {},
   "outputs": [
    {
     "data": {
      "text/plain": [
       "(10358, 13)"
      ]
     },
     "execution_count": 6,
     "metadata": {},
     "output_type": "execute_result"
    }
   ],
   "source": [
    "dataset.shape"
   ]
  },
  {
   "cell_type": "code",
   "execution_count": 7,
   "metadata": {},
   "outputs": [],
   "source": [
    "dataset.drop_duplicates(subset = 'App', inplace = True)"
   ]
  },
  {
   "cell_type": "code",
   "execution_count": 8,
   "metadata": {},
   "outputs": [
    {
     "data": {
      "text/plain": [
       "(9660, 13)"
      ]
     },
     "execution_count": 8,
     "metadata": {},
     "output_type": "execute_result"
    }
   ],
   "source": [
    "dataset.shape"
   ]
  },
  {
   "cell_type": "code",
   "execution_count": 9,
   "metadata": {},
   "outputs": [
    {
     "name": "stdout",
     "output_type": "stream",
     "text": [
      "<class 'pandas.core.frame.DataFrame'>\n",
      "Int64Index: 9660 entries, 0 to 10840\n",
      "Data columns (total 13 columns):\n",
      " #   Column          Non-Null Count  Dtype  \n",
      "---  ------          --------------  -----  \n",
      " 0   App             9660 non-null   object \n",
      " 1   Category        9660 non-null   object \n",
      " 2   Rating          8197 non-null   float64\n",
      " 3   Reviews         9660 non-null   object \n",
      " 4   Size            9660 non-null   object \n",
      " 5   Installs        9660 non-null   object \n",
      " 6   Type            9659 non-null   object \n",
      " 7   Price           9660 non-null   object \n",
      " 8   Content Rating  9659 non-null   object \n",
      " 9   Genres          9660 non-null   object \n",
      " 10  Last Updated    9660 non-null   object \n",
      " 11  Current Ver     9652 non-null   object \n",
      " 12  Android Ver     9657 non-null   object \n",
      "dtypes: float64(1), object(12)\n",
      "memory usage: 1.0+ MB\n"
     ]
    }
   ],
   "source": [
    "dataset.info()"
   ]
  },
  {
   "cell_type": "markdown",
   "metadata": {},
   "source": [
    "### Check for null values in the data. Get the number of null values for each column"
   ]
  },
  {
   "cell_type": "code",
   "execution_count": 10,
   "metadata": {},
   "outputs": [
    {
     "data": {
      "text/plain": [
       "App               False\n",
       "Category          False\n",
       "Rating             True\n",
       "Reviews           False\n",
       "Size              False\n",
       "Installs          False\n",
       "Type               True\n",
       "Price             False\n",
       "Content Rating     True\n",
       "Genres            False\n",
       "Last Updated      False\n",
       "Current Ver        True\n",
       "Android Ver        True\n",
       "dtype: bool"
      ]
     },
     "execution_count": 10,
     "metadata": {},
     "output_type": "execute_result"
    }
   ],
   "source": [
    "dataset.isna().any()"
   ]
  },
  {
   "cell_type": "code",
   "execution_count": 11,
   "metadata": {},
   "outputs": [
    {
     "data": {
      "text/plain": [
       "App                  0\n",
       "Category             0\n",
       "Rating            1463\n",
       "Reviews              0\n",
       "Size                 0\n",
       "Installs             0\n",
       "Type                 1\n",
       "Price                0\n",
       "Content Rating       1\n",
       "Genres               0\n",
       "Last Updated         0\n",
       "Current Ver          8\n",
       "Android Ver          3\n",
       "dtype: int64"
      ]
     },
     "execution_count": 11,
     "metadata": {},
     "output_type": "execute_result"
    }
   ],
   "source": [
    "dataset.isna().sum()"
   ]
  },
  {
   "cell_type": "markdown",
   "metadata": {},
   "source": [
    "### Drop records with nulls in any of the columns"
   ]
  },
  {
   "cell_type": "code",
   "execution_count": 12,
   "metadata": {},
   "outputs": [],
   "source": [
    "dataset.dropna(inplace = True)"
   ]
  },
  {
   "cell_type": "code",
   "execution_count": 13,
   "metadata": {},
   "outputs": [
    {
     "data": {
      "text/plain": [
       "(8190, 13)"
      ]
     },
     "execution_count": 13,
     "metadata": {},
     "output_type": "execute_result"
    }
   ],
   "source": [
    "dataset.shape"
   ]
  },
  {
   "cell_type": "code",
   "execution_count": 14,
   "metadata": {},
   "outputs": [
    {
     "data": {
      "text/plain": [
       "App               0\n",
       "Category          0\n",
       "Rating            0\n",
       "Reviews           0\n",
       "Size              0\n",
       "Installs          0\n",
       "Type              0\n",
       "Price             0\n",
       "Content Rating    0\n",
       "Genres            0\n",
       "Last Updated      0\n",
       "Current Ver       0\n",
       "Android Ver       0\n",
       "dtype: int64"
      ]
     },
     "execution_count": 14,
     "metadata": {},
     "output_type": "execute_result"
    }
   ],
   "source": [
    "dataset.isna().sum()"
   ]
  },
  {
   "cell_type": "markdown",
   "metadata": {},
   "source": [
    "### Fixing the variables that have incorrect type and inconsistent formatting"
   ]
  },
  {
   "cell_type": "markdown",
   "metadata": {},
   "source": [
    "#### Size column has sizes in Kb as well as Mb. Convert these to numeric.\n",
    "1. Extract the numeric value from the column\n",
    "2. Multiply the value by 1,000, if size is mentioned in Mb"
   ]
  },
  {
   "cell_type": "code",
   "execution_count": 15,
   "metadata": {},
   "outputs": [
    {
     "data": {
      "text/plain": [
       "0                       19M\n",
       "1                       14M\n",
       "2                      8.7M\n",
       "3                       25M\n",
       "4                      2.8M\n",
       "                ...        \n",
       "10834                  2.6M\n",
       "10836                   53M\n",
       "10837                  3.6M\n",
       "10839    Varies with device\n",
       "10840                   19M\n",
       "Name: Size, Length: 8190, dtype: object"
      ]
     },
     "execution_count": 15,
     "metadata": {},
     "output_type": "execute_result"
    }
   ],
   "source": [
    "dataset['Size']"
   ]
  },
  {
   "cell_type": "code",
   "execution_count": 16,
   "metadata": {},
   "outputs": [
    {
     "data": {
      "text/plain": [
       "Varies with device    1169\n",
       "14M                    148\n",
       "12M                    146\n",
       "11M                    143\n",
       "13M                    143\n",
       "                      ... \n",
       "251k                     1\n",
       "647k                     1\n",
       "121k                     1\n",
       "930k                     1\n",
       "920k                     1\n",
       "Name: Size, Length: 413, dtype: int64"
      ]
     },
     "execution_count": 16,
     "metadata": {},
     "output_type": "execute_result"
    }
   ],
   "source": [
    "dataset['Size'].value_counts()"
   ]
  },
  {
   "cell_type": "code",
   "execution_count": 17,
   "metadata": {},
   "outputs": [],
   "source": [
    "dataset['Size'] = dataset['Size'].str.replace('+','')\n",
    "dataset['Size'] = dataset['Size'].str.replace('k','')"
   ]
  },
  {
   "cell_type": "code",
   "execution_count": 18,
   "metadata": {},
   "outputs": [],
   "source": [
    "y=[]\n",
    "for m in dataset['Size']:\n",
    "    if 'M' in m:\n",
    "        x = float(m[:m.index('M')])*1000\n",
    "    elif m == 'Varies with device':\n",
    "        x = None\n",
    "    else:\n",
    "        x = m\n",
    "    y.append(x)\n",
    "    \n",
    "dataset.Size = y\n",
    "dataset.Size = dataset.Size.astype(float)"
   ]
  },
  {
   "cell_type": "code",
   "execution_count": 19,
   "metadata": {},
   "outputs": [
    {
     "data": {
      "text/plain": [
       "App                  0\n",
       "Category             0\n",
       "Rating               0\n",
       "Reviews              0\n",
       "Size              1169\n",
       "Installs             0\n",
       "Type                 0\n",
       "Price                0\n",
       "Content Rating       0\n",
       "Genres               0\n",
       "Last Updated         0\n",
       "Current Ver          0\n",
       "Android Ver          0\n",
       "dtype: int64"
      ]
     },
     "execution_count": 19,
     "metadata": {},
     "output_type": "execute_result"
    }
   ],
   "source": [
    "dataset.isna().sum()"
   ]
  },
  {
   "cell_type": "code",
   "execution_count": 20,
   "metadata": {},
   "outputs": [
    {
     "data": {
      "text/plain": [
       "App               0\n",
       "Category          0\n",
       "Rating            0\n",
       "Reviews           0\n",
       "Size              0\n",
       "Installs          0\n",
       "Type              0\n",
       "Price             0\n",
       "Content Rating    0\n",
       "Genres            0\n",
       "Last Updated      0\n",
       "Current Ver       0\n",
       "Android Ver       0\n",
       "dtype: int64"
      ]
     },
     "execution_count": 20,
     "metadata": {},
     "output_type": "execute_result"
    }
   ],
   "source": [
    "dataset.Size.fillna(method='pad',inplace=True)\n",
    "dataset.isna().sum()"
   ]
  },
  {
   "cell_type": "code",
   "execution_count": 21,
   "metadata": {},
   "outputs": [
    {
     "data": {
      "text/plain": [
       "App                object\n",
       "Category           object\n",
       "Rating            float64\n",
       "Reviews            object\n",
       "Size              float64\n",
       "Installs           object\n",
       "Type               object\n",
       "Price              object\n",
       "Content Rating     object\n",
       "Genres             object\n",
       "Last Updated       object\n",
       "Current Ver        object\n",
       "Android Ver        object\n",
       "dtype: object"
      ]
     },
     "execution_count": 21,
     "metadata": {},
     "output_type": "execute_result"
    }
   ],
   "source": [
    "dataset.dtypes"
   ]
  },
  {
   "cell_type": "markdown",
   "metadata": {},
   "source": [
    "#### Reviews is a numeric field that is loaded as a string field. Convert it to numeric (int/float)."
   ]
  },
  {
   "cell_type": "code",
   "execution_count": 22,
   "metadata": {},
   "outputs": [],
   "source": [
    "dataset['Reviews'] = dataset['Reviews'].astype(int)"
   ]
  },
  {
   "cell_type": "code",
   "execution_count": 23,
   "metadata": {},
   "outputs": [
    {
     "data": {
      "text/plain": [
       "App                object\n",
       "Category           object\n",
       "Rating            float64\n",
       "Reviews             int32\n",
       "Size              float64\n",
       "Installs           object\n",
       "Type               object\n",
       "Price              object\n",
       "Content Rating     object\n",
       "Genres             object\n",
       "Last Updated       object\n",
       "Current Ver        object\n",
       "Android Ver        object\n",
       "dtype: object"
      ]
     },
     "execution_count": 23,
     "metadata": {},
     "output_type": "execute_result"
    }
   ],
   "source": [
    "dataset.dtypes"
   ]
  },
  {
   "cell_type": "markdown",
   "metadata": {},
   "source": [
    "#### Installs field is currently stored as string and has values like 1,000,000+. \n",
    "1. Treat 1,000,000+ as 1,000,000\n",
    "2. remove ‘+’, ‘,’ from the field, convert it to integer"
   ]
  },
  {
   "cell_type": "code",
   "execution_count": 24,
   "metadata": {},
   "outputs": [],
   "source": [
    "dataset['Installs'] = dataset['Installs'].str.replace(',','')\n",
    "dataset['Installs'] = dataset['Installs'].str.replace('+','')"
   ]
  },
  {
   "cell_type": "code",
   "execution_count": 25,
   "metadata": {},
   "outputs": [],
   "source": [
    "dataset['Installs'] = dataset['Installs'].astype(int)"
   ]
  },
  {
   "cell_type": "code",
   "execution_count": 26,
   "metadata": {},
   "outputs": [
    {
     "data": {
      "text/plain": [
       "App                object\n",
       "Category           object\n",
       "Rating            float64\n",
       "Reviews             int32\n",
       "Size              float64\n",
       "Installs            int32\n",
       "Type               object\n",
       "Price              object\n",
       "Content Rating     object\n",
       "Genres             object\n",
       "Last Updated       object\n",
       "Current Ver        object\n",
       "Android Ver        object\n",
       "dtype: object"
      ]
     },
     "execution_count": 26,
     "metadata": {},
     "output_type": "execute_result"
    }
   ],
   "source": [
    "dataset.dtypes"
   ]
  },
  {
   "cell_type": "markdown",
   "metadata": {},
   "source": [
    "#### Price field is a string and has \\\\$ symbol. Remove \\\\$ sign, and convert it to numeric"
   ]
  },
  {
   "cell_type": "code",
   "execution_count": 27,
   "metadata": {},
   "outputs": [
    {
     "data": {
      "text/plain": [
       "App                object\n",
       "Category           object\n",
       "Rating            float64\n",
       "Reviews             int32\n",
       "Size              float64\n",
       "Installs            int32\n",
       "Type               object\n",
       "Price             float64\n",
       "Content Rating     object\n",
       "Genres             object\n",
       "Last Updated       object\n",
       "Current Ver        object\n",
       "Android Ver        object\n",
       "dtype: object"
      ]
     },
     "execution_count": 27,
     "metadata": {},
     "output_type": "execute_result"
    }
   ],
   "source": [
    "dataset['Price'] =  dataset['Price'].str.replace('$','')\n",
    "dataset['Price'] =  dataset['Price'].astype(float)\n",
    "dataset.dtypes"
   ]
  },
  {
   "cell_type": "markdown",
   "metadata": {},
   "source": [
    "### Sanity Checks"
   ]
  },
  {
   "cell_type": "markdown",
   "metadata": {},
   "source": [
    "#### Average rating should be between 1 and 5 as only these values are allowed on the play store. Drop the rows that have a value outside this range"
   ]
  },
  {
   "cell_type": "code",
   "execution_count": 28,
   "metadata": {},
   "outputs": [
    {
     "data": {
      "text/plain": [
       "(8190, 13)"
      ]
     },
     "execution_count": 28,
     "metadata": {},
     "output_type": "execute_result"
    }
   ],
   "source": [
    "dataset.drop(dataset[(dataset['Rating']<1) | (dataset['Rating']>5)].index, inplace = True)\n",
    "dataset.reset_index(drop = True, inplace = True)\n",
    "dataset.shape"
   ]
  },
  {
   "cell_type": "markdown",
   "metadata": {},
   "source": [
    "#### Reviews should not be more than installs as only those who installed can review the app. Drop the records that have reviews > installs"
   ]
  },
  {
   "cell_type": "code",
   "execution_count": 29,
   "metadata": {},
   "outputs": [
    {
     "data": {
      "text/plain": [
       "(8183, 13)"
      ]
     },
     "execution_count": 29,
     "metadata": {},
     "output_type": "execute_result"
    }
   ],
   "source": [
    "dataset.drop(dataset[dataset['Reviews'] > dataset['Installs']].index, inplace = True)\n",
    "dataset.reset_index(drop = True, inplace = True)\n",
    "dataset.shape"
   ]
  },
  {
   "cell_type": "markdown",
   "metadata": {},
   "source": [
    "#### For free apps (type = “Free”), the price should not be >0. Drop any such rows"
   ]
  },
  {
   "cell_type": "code",
   "execution_count": 30,
   "metadata": {},
   "outputs": [
    {
     "data": {
      "text/plain": [
       "(8183, 13)"
      ]
     },
     "execution_count": 30,
     "metadata": {},
     "output_type": "execute_result"
    }
   ],
   "source": [
    "dataset.drop(dataset[(dataset['Type'] == 'Free') & (dataset['Price'] != 0)].index, inplace = True)\n",
    "dataset.reset_index(drop = True, inplace = True)\n",
    "dataset.shape"
   ]
  },
  {
   "cell_type": "markdown",
   "metadata": {},
   "source": [
    "### Univariate Analysis"
   ]
  },
  {
   "cell_type": "markdown",
   "metadata": {},
   "source": [
    "#### Boxplot for Price"
   ]
  },
  {
   "cell_type": "code",
   "execution_count": 31,
   "metadata": {},
   "outputs": [
    {
     "data": {
      "text/plain": [
       "Text(0.5, 1.0, 'Boxplot of price-Both Free and paid')"
      ]
     },
     "execution_count": 31,
     "metadata": {},
     "output_type": "execute_result"
    },
    {
     "data": {
      "image/png": "[encoded data removed]",
      "text/plain": [
       "<Figure size 432x288 with 1 Axes>"
      ]
     },
     "metadata": {},
     "output_type": "display_data"
    }
   ],
   "source": [
    "sns.set(style = 'darkgrid')\n",
    "sns.boxplot(y = dataset['Price']).set_title('Boxplot of price-Both Free and paid')\n",
    "#plt.savefig('Boxplot_price.png') #---> To save the plot"
   ]
  },
  {
   "cell_type": "code",
   "execution_count": 32,
   "metadata": {},
   "outputs": [
    {
     "data": {
      "text/plain": [
       "Text(0.5, 1.0, 'Boxplot of price-Paid apps')"
      ]
     },
     "execution_count": 32,
     "metadata": {},
     "output_type": "execute_result"
    },
    {
     "data": {
      "image/png": "[encoded data removed]",
      "text/plain": [
       "<Figure size 432x288 with 1 Axes>"
      ]
     },
     "metadata": {},
     "output_type": "display_data"
    }
   ],
   "source": [
    "#The no of free apps(price = 0) is very high. They are skewing the boxplot. Hence drop them for the boxplot\n",
    "df1 = dataset.drop(dataset[dataset['Price'] == 0].index)\n",
    "sns.boxplot(y = df1['Price']).set_title('Boxplot of price-Paid apps')\n",
    "#plt.savefig('Boxplot_price(Only paid apps).png') #---> To save the plot"
   ]
  },
  {
   "cell_type": "markdown",
   "metadata": {},
   "source": [
    "Inference: From the boxplot, it is clear that price > 50 can be considered outliers"
   ]
  },
  {
   "cell_type": "markdown",
   "metadata": {},
   "source": [
    "#### Boxplot for Reviews"
   ]
  },
  {
   "cell_type": "code",
   "execution_count": 33,
   "metadata": {},
   "outputs": [
    {
     "data": {
      "text/plain": [
       "count    8.183000e+03\n",
       "mean     2.556527e+05\n",
       "std      1.987145e+06\n",
       "min      1.000000e+00\n",
       "25%      1.270000e+02\n",
       "50%      3.017000e+03\n",
       "75%      4.399350e+04\n",
       "max      7.815831e+07\n",
       "Name: Reviews, dtype: float64"
      ]
     },
     "execution_count": 33,
     "metadata": {},
     "output_type": "execute_result"
    }
   ],
   "source": [
    "dataset['Reviews'].describe()"
   ]
  },
  {
   "cell_type": "code",
   "execution_count": 34,
   "metadata": {},
   "outputs": [
    {
     "data": {
      "text/plain": [
       "Text(0.5, 1.0, 'Boxplot for Reviews')"
      ]
     },
     "execution_count": 34,
     "metadata": {},
     "output_type": "execute_result"
    },
    {
     "data": {
      "image/png": "[encoded data removed]",
      "text/plain": [
       "<Figure size 432x288 with 1 Axes>"
      ]
     },
     "metadata": {},
     "output_type": "display_data"
    }
   ],
   "source": [
    "sns.boxplot(y = dataset['Reviews']).set_title('Boxplot for Reviews')\n",
    "#plt.savefig('Boxplot_Reviews.png')   #---> To save the plot"
   ]
  },
  {
   "cell_type": "markdown",
   "metadata": {},
   "source": [
    "Inference : Records with reviews > 2 Million can be considered as outliers"
   ]
  },
  {
   "cell_type": "markdown",
   "metadata": {},
   "source": [
    "#### Boxplot for Installs"
   ]
  },
  {
   "cell_type": "code",
   "execution_count": 35,
   "metadata": {},
   "outputs": [
    {
     "data": {
      "text/plain": [
       "Text(0.5, 1.0, 'Boxplot of Installs')"
      ]
     },
     "execution_count": 35,
     "metadata": {},
     "output_type": "execute_result"
    },
    {
     "data": {
      "image/png": "[encoded data removed]",
      "text/plain": [
       "<Figure size 432x288 with 1 Axes>"
      ]
     },
     "metadata": {},
     "output_type": "display_data"
    }
   ],
   "source": [
    "sns.boxplot(y = dataset['Installs']).set_title('Boxplot of Installs')\n",
    "#plt.savefig('Boxplot_Installs.png')     #---> To save the plot"
   ]
  },
  {
   "cell_type": "code",
   "execution_count": 36,
   "metadata": {},
   "outputs": [
    {
     "name": "stdout",
     "output_type": "stream",
     "text": [
      "10th percentile is 1000.0\n",
      "25th percentile is 10000.0\n",
      "50th percentile is 100000.0\n",
      "70th percentile is 1000000.0\n",
      "90th percentile is 10000000.0\n",
      "95th percentile is 50000000.0\n",
      "99th percentile is 100000000.0\n",
      "99.5th percentile is 500000000.0\n"
     ]
    }
   ],
   "source": [
    "print('10th percentile is {}'.format(dataset['Installs'].quantile(0.1)) )   #10th percentile\n",
    "print('25th percentile is {}'.format(dataset['Installs'].quantile(0.25)) )  #25th percentile\n",
    "print('50th percentile is {}'.format(dataset['Installs'].quantile(0.5)) )   #50th percentile\n",
    "print('70th percentile is {}'.format(dataset['Installs'].quantile(0.7)) )   #70th percentile\n",
    "print('90th percentile is {}'.format(dataset['Installs'].quantile(0.9)) )   #90th percentile\n",
    "print('95th percentile is {}'.format(dataset['Installs'].quantile(0.95)) )  #95th percentile\n",
    "print('99th percentile is {}'.format(dataset['Installs'].quantile(0.99)) )  #99th percentile\n",
    "print('99.5th percentile is {}'.format(dataset['Installs'].quantile(0.995)))  #99.5th percentile"
   ]
  },
  {
   "cell_type": "markdown",
   "metadata": {},
   "source": [
    "95th percentile i.e., installs > 50000000 can be considered outliers and can be removed from the analysis"
   ]
  },
  {
   "cell_type": "markdown",
   "metadata": {},
   "source": [
    "#### Histogram for Size"
   ]
  },
  {
   "cell_type": "code",
   "execution_count": 37,
   "metadata": {},
   "outputs": [
    {
     "data": {
      "text/plain": [
       "Text(0.5, 1.0, 'Histogram for Size')"
      ]
     },
     "execution_count": 37,
     "metadata": {},
     "output_type": "execute_result"
    },
    {
     "data": {
      "image/png": "[encoded data removed]",
      "text/plain": [
       "<Figure size 432x288 with 1 Axes>"
      ]
     },
     "metadata": {},
     "output_type": "display_data"
    }
   ],
   "source": [
    "sns.histplot(data = dataset, x='Size').set_title(\"Histogram for Size\")\n",
    "#plt.savefig('Histogram_Size.png')   #---> To save the plot"
   ]
  },
  {
   "cell_type": "markdown",
   "metadata": {},
   "source": [
    "Inference: The distribution of size is right skewed. The data has high no of small sized apps"
   ]
  },
  {
   "cell_type": "markdown",
   "metadata": {},
   "source": [
    "#### Histogram for Rating"
   ]
  },
  {
   "cell_type": "code",
   "execution_count": 38,
   "metadata": {},
   "outputs": [
    {
     "data": {
      "text/plain": [
       "Text(0.5, 1.0, 'Histogram for Rating')"
      ]
     },
     "execution_count": 38,
     "metadata": {},
     "output_type": "execute_result"
    },
    {
     "data": {
      "image/png": "[encoded data removed]",
      "text/plain": [
       "<Figure size 432x288 with 1 Axes>"
      ]
     },
     "metadata": {},
     "output_type": "display_data"
    }
   ],
   "source": [
    "sns.histplot(data = dataset, x='Rating').set_title(\"Histogram for Rating\")\n",
    "#plt.savefig('Histogram_Rating.png') #---> To save the plot"
   ]
  },
  {
   "cell_type": "markdown",
   "metadata": {},
   "source": [
    "Inference: The distribution of ratings is left skewed. The no of high rated apps present in the data is more than the low rated apps"
   ]
  },
  {
   "cell_type": "markdown",
   "metadata": {},
   "source": [
    "### Outlier Treatment"
   ]
  },
  {
   "cell_type": "markdown",
   "metadata": {},
   "source": [
    "#### Drop records with Price > 50 "
   ]
  },
  {
   "cell_type": "code",
   "execution_count": 39,
   "metadata": {},
   "outputs": [
    {
     "data": {
      "text/html": [
       "<div>\n",
       "<style scoped>\n",
       "    .dataframe tbody tr th:only-of-type {\n",
       "        vertical-align: middle;\n",
       "    }\n",
       "\n",
       "    .dataframe tbody tr th {\n",
       "        vertical-align: top;\n",
       "    }\n",
       "\n",
       "    .dataframe thead th {\n",
       "        text-align: right;\n",
       "    }\n",
       "</style>\n",
       "<table border=\"1\" class=\"dataframe\">\n",
       "  <thead>\n",
       "    <tr style=\"text-align: right;\">\n",
       "      <th></th>\n",
       "      <th>App</th>\n",
       "      <th>Category</th>\n",
       "      <th>Rating</th>\n",
       "      <th>Reviews</th>\n",
       "      <th>Size</th>\n",
       "      <th>Installs</th>\n",
       "      <th>Type</th>\n",
       "      <th>Price</th>\n",
       "      <th>Content Rating</th>\n",
       "      <th>Genres</th>\n",
       "      <th>Last Updated</th>\n",
       "      <th>Current Ver</th>\n",
       "      <th>Android Ver</th>\n",
       "    </tr>\n",
       "  </thead>\n",
       "  <tbody>\n",
       "    <tr>\n",
       "      <th>1673</th>\n",
       "      <td>Vargo Anesthesia Mega App</td>\n",
       "      <td>MEDICAL</td>\n",
       "      <td>4.6</td>\n",
       "      <td>92</td>\n",
       "      <td>32000.0</td>\n",
       "      <td>1000</td>\n",
       "      <td>Paid</td>\n",
       "      <td>79.99</td>\n",
       "      <td>Everyone</td>\n",
       "      <td>Medical</td>\n",
       "      <td>June 18, 2018</td>\n",
       "      <td>19.0</td>\n",
       "      <td>4.0.3 and up</td>\n",
       "    </tr>\n",
       "    <tr>\n",
       "      <th>3174</th>\n",
       "      <td>most expensive app (H)</td>\n",
       "      <td>FAMILY</td>\n",
       "      <td>4.3</td>\n",
       "      <td>6</td>\n",
       "      <td>1500.0</td>\n",
       "      <td>100</td>\n",
       "      <td>Paid</td>\n",
       "      <td>399.99</td>\n",
       "      <td>Everyone</td>\n",
       "      <td>Entertainment</td>\n",
       "      <td>July 16, 2018</td>\n",
       "      <td>1.0</td>\n",
       "      <td>7.0 and up</td>\n",
       "    </tr>\n",
       "    <tr>\n",
       "      <th>3300</th>\n",
       "      <td>💎 I'm rich</td>\n",
       "      <td>LIFESTYLE</td>\n",
       "      <td>3.8</td>\n",
       "      <td>718</td>\n",
       "      <td>26000.0</td>\n",
       "      <td>10000</td>\n",
       "      <td>Paid</td>\n",
       "      <td>399.99</td>\n",
       "      <td>Everyone</td>\n",
       "      <td>Lifestyle</td>\n",
       "      <td>March 11, 2018</td>\n",
       "      <td>1.0.0</td>\n",
       "      <td>4.4 and up</td>\n",
       "    </tr>\n",
       "    <tr>\n",
       "      <th>3304</th>\n",
       "      <td>I'm Rich - Trump Edition</td>\n",
       "      <td>LIFESTYLE</td>\n",
       "      <td>3.6</td>\n",
       "      <td>275</td>\n",
       "      <td>7300.0</td>\n",
       "      <td>10000</td>\n",
       "      <td>Paid</td>\n",
       "      <td>400.00</td>\n",
       "      <td>Everyone</td>\n",
       "      <td>Lifestyle</td>\n",
       "      <td>May 3, 2018</td>\n",
       "      <td>1.0.1</td>\n",
       "      <td>4.1 and up</td>\n",
       "    </tr>\n",
       "    <tr>\n",
       "      <th>4095</th>\n",
       "      <td>I am rich</td>\n",
       "      <td>LIFESTYLE</td>\n",
       "      <td>3.8</td>\n",
       "      <td>3547</td>\n",
       "      <td>1800.0</td>\n",
       "      <td>100000</td>\n",
       "      <td>Paid</td>\n",
       "      <td>399.99</td>\n",
       "      <td>Everyone</td>\n",
       "      <td>Lifestyle</td>\n",
       "      <td>January 12, 2018</td>\n",
       "      <td>2.0</td>\n",
       "      <td>4.0.3 and up</td>\n",
       "    </tr>\n",
       "    <tr>\n",
       "      <th>4097</th>\n",
       "      <td>I am Rich Plus</td>\n",
       "      <td>FAMILY</td>\n",
       "      <td>4.0</td>\n",
       "      <td>856</td>\n",
       "      <td>8700.0</td>\n",
       "      <td>10000</td>\n",
       "      <td>Paid</td>\n",
       "      <td>399.99</td>\n",
       "      <td>Everyone</td>\n",
       "      <td>Entertainment</td>\n",
       "      <td>May 19, 2018</td>\n",
       "      <td>3.0</td>\n",
       "      <td>4.4 and up</td>\n",
       "    </tr>\n",
       "    <tr>\n",
       "      <th>4098</th>\n",
       "      <td>I am rich VIP</td>\n",
       "      <td>LIFESTYLE</td>\n",
       "      <td>3.8</td>\n",
       "      <td>411</td>\n",
       "      <td>2600.0</td>\n",
       "      <td>10000</td>\n",
       "      <td>Paid</td>\n",
       "      <td>299.99</td>\n",
       "      <td>Everyone</td>\n",
       "      <td>Lifestyle</td>\n",
       "      <td>July 21, 2018</td>\n",
       "      <td>1.1.1</td>\n",
       "      <td>4.3 and up</td>\n",
       "    </tr>\n",
       "    <tr>\n",
       "      <th>4099</th>\n",
       "      <td>I Am Rich Premium</td>\n",
       "      <td>FINANCE</td>\n",
       "      <td>4.1</td>\n",
       "      <td>1867</td>\n",
       "      <td>4700.0</td>\n",
       "      <td>50000</td>\n",
       "      <td>Paid</td>\n",
       "      <td>399.99</td>\n",
       "      <td>Everyone</td>\n",
       "      <td>Finance</td>\n",
       "      <td>November 12, 2017</td>\n",
       "      <td>1.6</td>\n",
       "      <td>4.0 and up</td>\n",
       "    </tr>\n",
       "    <tr>\n",
       "      <th>4100</th>\n",
       "      <td>I am extremely Rich</td>\n",
       "      <td>LIFESTYLE</td>\n",
       "      <td>2.9</td>\n",
       "      <td>41</td>\n",
       "      <td>2900.0</td>\n",
       "      <td>1000</td>\n",
       "      <td>Paid</td>\n",
       "      <td>379.99</td>\n",
       "      <td>Everyone</td>\n",
       "      <td>Lifestyle</td>\n",
       "      <td>July 1, 2018</td>\n",
       "      <td>1.0</td>\n",
       "      <td>4.0 and up</td>\n",
       "    </tr>\n",
       "    <tr>\n",
       "      <th>4101</th>\n",
       "      <td>I am Rich!</td>\n",
       "      <td>FINANCE</td>\n",
       "      <td>3.8</td>\n",
       "      <td>93</td>\n",
       "      <td>22000.0</td>\n",
       "      <td>1000</td>\n",
       "      <td>Paid</td>\n",
       "      <td>399.99</td>\n",
       "      <td>Everyone</td>\n",
       "      <td>Finance</td>\n",
       "      <td>December 11, 2017</td>\n",
       "      <td>1.0</td>\n",
       "      <td>4.1 and up</td>\n",
       "    </tr>\n",
       "    <tr>\n",
       "      <th>4102</th>\n",
       "      <td>I am rich(premium)</td>\n",
       "      <td>FINANCE</td>\n",
       "      <td>3.5</td>\n",
       "      <td>472</td>\n",
       "      <td>965.0</td>\n",
       "      <td>5000</td>\n",
       "      <td>Paid</td>\n",
       "      <td>399.99</td>\n",
       "      <td>Everyone</td>\n",
       "      <td>Finance</td>\n",
       "      <td>May 1, 2017</td>\n",
       "      <td>3.4</td>\n",
       "      <td>4.4 and up</td>\n",
       "    </tr>\n",
       "    <tr>\n",
       "      <th>4105</th>\n",
       "      <td>I Am Rich Pro</td>\n",
       "      <td>FAMILY</td>\n",
       "      <td>4.4</td>\n",
       "      <td>201</td>\n",
       "      <td>2700.0</td>\n",
       "      <td>5000</td>\n",
       "      <td>Paid</td>\n",
       "      <td>399.99</td>\n",
       "      <td>Everyone</td>\n",
       "      <td>Entertainment</td>\n",
       "      <td>May 30, 2017</td>\n",
       "      <td>1.54</td>\n",
       "      <td>1.6 and up</td>\n",
       "    </tr>\n",
       "    <tr>\n",
       "      <th>4107</th>\n",
       "      <td>I am rich (Most expensive app)</td>\n",
       "      <td>FINANCE</td>\n",
       "      <td>4.1</td>\n",
       "      <td>129</td>\n",
       "      <td>2700.0</td>\n",
       "      <td>1000</td>\n",
       "      <td>Paid</td>\n",
       "      <td>399.99</td>\n",
       "      <td>Teen</td>\n",
       "      <td>Finance</td>\n",
       "      <td>December 6, 2017</td>\n",
       "      <td>2</td>\n",
       "      <td>4.0.3 and up</td>\n",
       "    </tr>\n",
       "    <tr>\n",
       "      <th>4109</th>\n",
       "      <td>I Am Rich</td>\n",
       "      <td>FAMILY</td>\n",
       "      <td>3.6</td>\n",
       "      <td>217</td>\n",
       "      <td>4900.0</td>\n",
       "      <td>10000</td>\n",
       "      <td>Paid</td>\n",
       "      <td>389.99</td>\n",
       "      <td>Everyone</td>\n",
       "      <td>Entertainment</td>\n",
       "      <td>June 22, 2018</td>\n",
       "      <td>1.5</td>\n",
       "      <td>4.2 and up</td>\n",
       "    </tr>\n",
       "    <tr>\n",
       "      <th>4112</th>\n",
       "      <td>I am Rich</td>\n",
       "      <td>FINANCE</td>\n",
       "      <td>4.3</td>\n",
       "      <td>180</td>\n",
       "      <td>3800.0</td>\n",
       "      <td>5000</td>\n",
       "      <td>Paid</td>\n",
       "      <td>399.99</td>\n",
       "      <td>Everyone</td>\n",
       "      <td>Finance</td>\n",
       "      <td>March 22, 2018</td>\n",
       "      <td>1.0</td>\n",
       "      <td>4.2 and up</td>\n",
       "    </tr>\n",
       "    <tr>\n",
       "      <th>4116</th>\n",
       "      <td>I AM RICH PRO PLUS</td>\n",
       "      <td>FINANCE</td>\n",
       "      <td>4.0</td>\n",
       "      <td>36</td>\n",
       "      <td>41000.0</td>\n",
       "      <td>1000</td>\n",
       "      <td>Paid</td>\n",
       "      <td>399.99</td>\n",
       "      <td>Everyone</td>\n",
       "      <td>Finance</td>\n",
       "      <td>June 25, 2018</td>\n",
       "      <td>1.0.2</td>\n",
       "      <td>4.1 and up</td>\n",
       "    </tr>\n",
       "  </tbody>\n",
       "</table>\n",
       "</div>"
      ],
      "text/plain": [
       "                                 App   Category  Rating  Reviews     Size  \\\n",
       "1673       Vargo Anesthesia Mega App    MEDICAL     4.6       92  32000.0   \n",
       "3174          most expensive app (H)     FAMILY     4.3        6   1500.0   \n",
       "3300                      💎 I'm rich  LIFESTYLE     3.8      718  26000.0   \n",
       "3304        I'm Rich - Trump Edition  LIFESTYLE     3.6      275   7300.0   \n",
       "4095                       I am rich  LIFESTYLE     3.8     3547   1800.0   \n",
       "4097                  I am Rich Plus     FAMILY     4.0      856   8700.0   \n",
       "4098                   I am rich VIP  LIFESTYLE     3.8      411   2600.0   \n",
       "4099               I Am Rich Premium    FINANCE     4.1     1867   4700.0   \n",
       "4100             I am extremely Rich  LIFESTYLE     2.9       41   2900.0   \n",
       "4101                      I am Rich!    FINANCE     3.8       93  22000.0   \n",
       "4102              I am rich(premium)    FINANCE     3.5      472    965.0   \n",
       "4105                   I Am Rich Pro     FAMILY     4.4      201   2700.0   \n",
       "4107  I am rich (Most expensive app)    FINANCE     4.1      129   2700.0   \n",
       "4109                       I Am Rich     FAMILY     3.6      217   4900.0   \n",
       "4112                       I am Rich    FINANCE     4.3      180   3800.0   \n",
       "4116              I AM RICH PRO PLUS    FINANCE     4.0       36  41000.0   \n",
       "\n",
       "      Installs  Type   Price Content Rating         Genres       Last Updated  \\\n",
       "1673      1000  Paid   79.99       Everyone        Medical      June 18, 2018   \n",
       "3174       100  Paid  399.99       Everyone  Entertainment      July 16, 2018   \n",
       "3300     10000  Paid  399.99       Everyone      Lifestyle     March 11, 2018   \n",
       "3304     10000  Paid  400.00       Everyone      Lifestyle        May 3, 2018   \n",
       "4095    100000  Paid  399.99       Everyone      Lifestyle   January 12, 2018   \n",
       "4097     10000  Paid  399.99       Everyone  Entertainment       May 19, 2018   \n",
       "4098     10000  Paid  299.99       Everyone      Lifestyle      July 21, 2018   \n",
       "4099     50000  Paid  399.99       Everyone        Finance  November 12, 2017   \n",
       "4100      1000  Paid  379.99       Everyone      Lifestyle       July 1, 2018   \n",
       "4101      1000  Paid  399.99       Everyone        Finance  December 11, 2017   \n",
       "4102      5000  Paid  399.99       Everyone        Finance        May 1, 2017   \n",
       "4105      5000  Paid  399.99       Everyone  Entertainment       May 30, 2017   \n",
       "4107      1000  Paid  399.99           Teen        Finance   December 6, 2017   \n",
       "4109     10000  Paid  389.99       Everyone  Entertainment      June 22, 2018   \n",
       "4112      5000  Paid  399.99       Everyone        Finance     March 22, 2018   \n",
       "4116      1000  Paid  399.99       Everyone        Finance      June 25, 2018   \n",
       "\n",
       "     Current Ver   Android Ver  \n",
       "1673        19.0  4.0.3 and up  \n",
       "3174         1.0    7.0 and up  \n",
       "3300       1.0.0    4.4 and up  \n",
       "3304       1.0.1    4.1 and up  \n",
       "4095         2.0  4.0.3 and up  \n",
       "4097         3.0    4.4 and up  \n",
       "4098       1.1.1    4.3 and up  \n",
       "4099         1.6    4.0 and up  \n",
       "4100         1.0    4.0 and up  \n",
       "4101         1.0    4.1 and up  \n",
       "4102         3.4    4.4 and up  \n",
       "4105        1.54    1.6 and up  \n",
       "4107           2  4.0.3 and up  \n",
       "4109         1.5    4.2 and up  \n",
       "4112         1.0    4.2 and up  \n",
       "4116       1.0.2    4.1 and up  "
      ]
     },
     "execution_count": 39,
     "metadata": {},
     "output_type": "execute_result"
    }
   ],
   "source": [
    "dataset[dataset['Price'] > 50]"
   ]
  },
  {
   "cell_type": "code",
   "execution_count": 40,
   "metadata": {},
   "outputs": [
    {
     "data": {
      "text/plain": [
       "(8167, 13)"
      ]
     },
     "execution_count": 40,
     "metadata": {},
     "output_type": "execute_result"
    }
   ],
   "source": [
    "dataset.drop(dataset[dataset['Price'] > 50].index, inplace = True)\n",
    "dataset.shape"
   ]
  },
  {
   "cell_type": "markdown",
   "metadata": {},
   "source": [
    "#### Drop records that have Reviews > 2 Million"
   ]
  },
  {
   "cell_type": "code",
   "execution_count": 41,
   "metadata": {},
   "outputs": [
    {
     "data": {
      "text/html": [
       "<div>\n",
       "<style scoped>\n",
       "    .dataframe tbody tr th:only-of-type {\n",
       "        vertical-align: middle;\n",
       "    }\n",
       "\n",
       "    .dataframe tbody tr th {\n",
       "        vertical-align: top;\n",
       "    }\n",
       "\n",
       "    .dataframe thead th {\n",
       "        text-align: right;\n",
       "    }\n",
       "</style>\n",
       "<table border=\"1\" class=\"dataframe\">\n",
       "  <thead>\n",
       "    <tr style=\"text-align: right;\">\n",
       "      <th></th>\n",
       "      <th>App</th>\n",
       "      <th>Category</th>\n",
       "      <th>Rating</th>\n",
       "      <th>Reviews</th>\n",
       "      <th>Size</th>\n",
       "      <th>Installs</th>\n",
       "      <th>Type</th>\n",
       "      <th>Price</th>\n",
       "      <th>Content Rating</th>\n",
       "      <th>Genres</th>\n",
       "      <th>Last Updated</th>\n",
       "      <th>Current Ver</th>\n",
       "      <th>Android Ver</th>\n",
       "    </tr>\n",
       "  </thead>\n",
       "  <tbody>\n",
       "    <tr>\n",
       "      <th>131</th>\n",
       "      <td>Wattpad 📖 Free Books</td>\n",
       "      <td>BOOKS_AND_REFERENCE</td>\n",
       "      <td>4.6</td>\n",
       "      <td>2914724</td>\n",
       "      <td>3100.0</td>\n",
       "      <td>100000000</td>\n",
       "      <td>Free</td>\n",
       "      <td>0.0</td>\n",
       "      <td>Teen</td>\n",
       "      <td>Books &amp; Reference</td>\n",
       "      <td>August 1, 2018</td>\n",
       "      <td>Varies with device</td>\n",
       "      <td>Varies with device</td>\n",
       "    </tr>\n",
       "    <tr>\n",
       "      <th>286</th>\n",
       "      <td>Messenger – Text and Video Chat for Free</td>\n",
       "      <td>COMMUNICATION</td>\n",
       "      <td>4.0</td>\n",
       "      <td>56642847</td>\n",
       "      <td>35000.0</td>\n",
       "      <td>1000000000</td>\n",
       "      <td>Free</td>\n",
       "      <td>0.0</td>\n",
       "      <td>Everyone</td>\n",
       "      <td>Communication</td>\n",
       "      <td>August 1, 2018</td>\n",
       "      <td>Varies with device</td>\n",
       "      <td>Varies with device</td>\n",
       "    </tr>\n",
       "    <tr>\n",
       "      <th>287</th>\n",
       "      <td>WhatsApp Messenger</td>\n",
       "      <td>COMMUNICATION</td>\n",
       "      <td>4.4</td>\n",
       "      <td>69119316</td>\n",
       "      <td>35000.0</td>\n",
       "      <td>1000000000</td>\n",
       "      <td>Free</td>\n",
       "      <td>0.0</td>\n",
       "      <td>Everyone</td>\n",
       "      <td>Communication</td>\n",
       "      <td>August 3, 2018</td>\n",
       "      <td>Varies with device</td>\n",
       "      <td>Varies with device</td>\n",
       "    </tr>\n",
       "    <tr>\n",
       "      <th>289</th>\n",
       "      <td>Google Chrome: Fast &amp; Secure</td>\n",
       "      <td>COMMUNICATION</td>\n",
       "      <td>4.3</td>\n",
       "      <td>9642995</td>\n",
       "      <td>17000.0</td>\n",
       "      <td>1000000000</td>\n",
       "      <td>Free</td>\n",
       "      <td>0.0</td>\n",
       "      <td>Everyone</td>\n",
       "      <td>Communication</td>\n",
       "      <td>August 1, 2018</td>\n",
       "      <td>Varies with device</td>\n",
       "      <td>Varies with device</td>\n",
       "    </tr>\n",
       "    <tr>\n",
       "      <th>291</th>\n",
       "      <td>Gmail</td>\n",
       "      <td>COMMUNICATION</td>\n",
       "      <td>4.3</td>\n",
       "      <td>4604324</td>\n",
       "      <td>17000.0</td>\n",
       "      <td>1000000000</td>\n",
       "      <td>Free</td>\n",
       "      <td>0.0</td>\n",
       "      <td>Everyone</td>\n",
       "      <td>Communication</td>\n",
       "      <td>August 2, 2018</td>\n",
       "      <td>Varies with device</td>\n",
       "      <td>Varies with device</td>\n",
       "    </tr>\n",
       "    <tr>\n",
       "      <th>...</th>\n",
       "      <td>...</td>\n",
       "      <td>...</td>\n",
       "      <td>...</td>\n",
       "      <td>...</td>\n",
       "      <td>...</td>\n",
       "      <td>...</td>\n",
       "      <td>...</td>\n",
       "      <td>...</td>\n",
       "      <td>...</td>\n",
       "      <td>...</td>\n",
       "      <td>...</td>\n",
       "      <td>...</td>\n",
       "      <td>...</td>\n",
       "    </tr>\n",
       "    <tr>\n",
       "      <th>6390</th>\n",
       "      <td>FIFA Soccer</td>\n",
       "      <td>SPORTS</td>\n",
       "      <td>4.2</td>\n",
       "      <td>3909032</td>\n",
       "      <td>51000.0</td>\n",
       "      <td>100000000</td>\n",
       "      <td>Free</td>\n",
       "      <td>0.0</td>\n",
       "      <td>Everyone</td>\n",
       "      <td>Sports</td>\n",
       "      <td>July 31, 2018</td>\n",
       "      <td>10.5.00</td>\n",
       "      <td>4.1 and up</td>\n",
       "    </tr>\n",
       "    <tr>\n",
       "      <th>6746</th>\n",
       "      <td>DU Battery Saver - Battery Charger &amp; Battery Life</td>\n",
       "      <td>TOOLS</td>\n",
       "      <td>4.5</td>\n",
       "      <td>13479633</td>\n",
       "      <td>14000.0</td>\n",
       "      <td>100000000</td>\n",
       "      <td>Free</td>\n",
       "      <td>0.0</td>\n",
       "      <td>Everyone</td>\n",
       "      <td>Tools</td>\n",
       "      <td>June 5, 2018</td>\n",
       "      <td>4.8.7.8</td>\n",
       "      <td>4.0 and up</td>\n",
       "    </tr>\n",
       "    <tr>\n",
       "      <th>6937</th>\n",
       "      <td>EA SPORTS UFC®</td>\n",
       "      <td>SPORTS</td>\n",
       "      <td>4.5</td>\n",
       "      <td>2371338</td>\n",
       "      <td>37000.0</td>\n",
       "      <td>50000000</td>\n",
       "      <td>Free</td>\n",
       "      <td>0.0</td>\n",
       "      <td>Teen</td>\n",
       "      <td>Sports</td>\n",
       "      <td>July 24, 2017</td>\n",
       "      <td>1.9.3097721</td>\n",
       "      <td>2.3.3 and up</td>\n",
       "    </tr>\n",
       "    <tr>\n",
       "      <th>6939</th>\n",
       "      <td>Need for Speed™ No Limits</td>\n",
       "      <td>GAME</td>\n",
       "      <td>4.4</td>\n",
       "      <td>3344300</td>\n",
       "      <td>22000.0</td>\n",
       "      <td>50000000</td>\n",
       "      <td>Free</td>\n",
       "      <td>0.0</td>\n",
       "      <td>Everyone 10+</td>\n",
       "      <td>Racing</td>\n",
       "      <td>July 24, 2018</td>\n",
       "      <td>2.12.1</td>\n",
       "      <td>4.1 and up</td>\n",
       "    </tr>\n",
       "    <tr>\n",
       "      <th>6961</th>\n",
       "      <td>Modern Combat 5: eSports FPS</td>\n",
       "      <td>GAME</td>\n",
       "      <td>4.3</td>\n",
       "      <td>2903386</td>\n",
       "      <td>58000.0</td>\n",
       "      <td>100000000</td>\n",
       "      <td>Free</td>\n",
       "      <td>0.0</td>\n",
       "      <td>Mature 17+</td>\n",
       "      <td>Action</td>\n",
       "      <td>July 24, 2018</td>\n",
       "      <td>3.2.1c</td>\n",
       "      <td>4.0 and up</td>\n",
       "    </tr>\n",
       "  </tbody>\n",
       "</table>\n",
       "<p>195 rows × 13 columns</p>\n",
       "</div>"
      ],
      "text/plain": [
       "                                                    App             Category  \\\n",
       "131                                Wattpad 📖 Free Books  BOOKS_AND_REFERENCE   \n",
       "286            Messenger – Text and Video Chat for Free        COMMUNICATION   \n",
       "287                                  WhatsApp Messenger        COMMUNICATION   \n",
       "289                        Google Chrome: Fast & Secure        COMMUNICATION   \n",
       "291                                               Gmail        COMMUNICATION   \n",
       "...                                                 ...                  ...   \n",
       "6390                                        FIFA Soccer               SPORTS   \n",
       "6746  DU Battery Saver - Battery Charger & Battery Life                TOOLS   \n",
       "6937                                     EA SPORTS UFC®               SPORTS   \n",
       "6939                          Need for Speed™ No Limits                 GAME   \n",
       "6961                       Modern Combat 5: eSports FPS                 GAME   \n",
       "\n",
       "      Rating   Reviews     Size    Installs  Type  Price Content Rating  \\\n",
       "131      4.6   2914724   3100.0   100000000  Free    0.0           Teen   \n",
       "286      4.0  56642847  35000.0  1000000000  Free    0.0       Everyone   \n",
       "287      4.4  69119316  35000.0  1000000000  Free    0.0       Everyone   \n",
       "289      4.3   9642995  17000.0  1000000000  Free    0.0       Everyone   \n",
       "291      4.3   4604324  17000.0  1000000000  Free    0.0       Everyone   \n",
       "...      ...       ...      ...         ...   ...    ...            ...   \n",
       "6390     4.2   3909032  51000.0   100000000  Free    0.0       Everyone   \n",
       "6746     4.5  13479633  14000.0   100000000  Free    0.0       Everyone   \n",
       "6937     4.5   2371338  37000.0    50000000  Free    0.0           Teen   \n",
       "6939     4.4   3344300  22000.0    50000000  Free    0.0   Everyone 10+   \n",
       "6961     4.3   2903386  58000.0   100000000  Free    0.0     Mature 17+   \n",
       "\n",
       "                 Genres    Last Updated         Current Ver  \\\n",
       "131   Books & Reference  August 1, 2018  Varies with device   \n",
       "286       Communication  August 1, 2018  Varies with device   \n",
       "287       Communication  August 3, 2018  Varies with device   \n",
       "289       Communication  August 1, 2018  Varies with device   \n",
       "291       Communication  August 2, 2018  Varies with device   \n",
       "...                 ...             ...                 ...   \n",
       "6390             Sports   July 31, 2018             10.5.00   \n",
       "6746              Tools    June 5, 2018             4.8.7.8   \n",
       "6937             Sports   July 24, 2017         1.9.3097721   \n",
       "6939             Racing   July 24, 2018              2.12.1   \n",
       "6961             Action   July 24, 2018              3.2.1c   \n",
       "\n",
       "             Android Ver  \n",
       "131   Varies with device  \n",
       "286   Varies with device  \n",
       "287   Varies with device  \n",
       "289   Varies with device  \n",
       "291   Varies with device  \n",
       "...                  ...  \n",
       "6390          4.1 and up  \n",
       "6746          4.0 and up  \n",
       "6937        2.3.3 and up  \n",
       "6939          4.1 and up  \n",
       "6961          4.0 and up  \n",
       "\n",
       "[195 rows x 13 columns]"
      ]
     },
     "execution_count": 41,
     "metadata": {},
     "output_type": "execute_result"
    }
   ],
   "source": [
    "dataset[dataset['Reviews'] > 2000000]"
   ]
  },
  {
   "cell_type": "code",
   "execution_count": 42,
   "metadata": {},
   "outputs": [],
   "source": [
    "dataset.drop(dataset[dataset['Reviews'] > 2000000].index, inplace = True)"
   ]
  },
  {
   "cell_type": "code",
   "execution_count": 43,
   "metadata": {},
   "outputs": [
    {
     "data": {
      "text/plain": [
       "(7972, 13)"
      ]
     },
     "execution_count": 43,
     "metadata": {},
     "output_type": "execute_result"
    }
   ],
   "source": [
    "dataset.shape"
   ]
  },
  {
   "cell_type": "markdown",
   "metadata": {},
   "source": [
    "#### Drop records with installs >= 50000000"
   ]
  },
  {
   "cell_type": "code",
   "execution_count": 44,
   "metadata": {},
   "outputs": [
    {
     "data": {
      "text/plain": [
       "(7725, 13)"
      ]
     },
     "execution_count": 44,
     "metadata": {},
     "output_type": "execute_result"
    }
   ],
   "source": [
    "dataset.drop(dataset[dataset['Installs'] >= 50000000].index, inplace = True)\n",
    "dataset.shape"
   ]
  },
  {
   "cell_type": "markdown",
   "metadata": {},
   "source": [
    "                      "
   ]
  },
  {
   "cell_type": "code",
   "execution_count": 45,
   "metadata": {},
   "outputs": [],
   "source": [
    "dataset.reset_index(drop = True, inplace = True)"
   ]
  },
  {
   "cell_type": "markdown",
   "metadata": {},
   "source": [
    "\n",
    "\n",
    "\n",
    "\n",
    "\n"
   ]
  },
  {
   "cell_type": "markdown",
   "metadata": {},
   "source": [
    "### Bivariate Analysis"
   ]
  },
  {
   "cell_type": "markdown",
   "metadata": {},
   "source": [
    "#### Rating vs Price"
   ]
  },
  {
   "cell_type": "code",
   "execution_count": 46,
   "metadata": {},
   "outputs": [
    {
     "data": {
      "image/png": "[encoded data removed]",
      "text/plain": [
       "<Figure size 648x576 with 1 Axes>"
      ]
     },
     "metadata": {},
     "output_type": "display_data"
    }
   ],
   "source": [
    "plt.figure(figsize=(9,8))\n",
    "sns.set_style(style='darkgrid',)\n",
    "sns.set(font_scale=1.2)\n",
    "sns.scatterplot(x = dataset['Price'], y = dataset['Rating'],hue=dataset['Rating'], palette = 'hot_r').set_title(\"Rating vs Price\")\n",
    "#plt.savefig('Rating vs Price.png') #---> To save the plot\n",
    "plt.show()"
   ]
  },
  {
   "cell_type": "markdown",
   "metadata": {},
   "source": [
    "Inference : There is no clear pattern. High priced apps have better ratings(though it is not a linear relationship). But no of high priced apps present in the data is very low"
   ]
  },
  {
   "cell_type": "markdown",
   "metadata": {},
   "source": [
    "#### Rating vs Size"
   ]
  },
  {
   "cell_type": "code",
   "execution_count": 47,
   "metadata": {},
   "outputs": [
    {
     "data": {
      "image/png": "[encoded data removed]",
      "text/plain": [
       "<Figure size 648x648 with 1 Axes>"
      ]
     },
     "metadata": {},
     "output_type": "display_data"
    }
   ],
   "source": [
    "plt.figure(figsize=(9,9))\n",
    "sns.set_style(style='darkgrid',)\n",
    "sns.set(font_scale=1.2)\n",
    "sns.scatterplot(x = dataset['Size'], y = dataset['Rating'],hue=dataset['Rating'], palette = 'hot_r').set_title(\"Rating vs Size\")\n",
    "#plt.savefig('Rating vs Size.png') #---> To save the plot\n",
    "plt.show()"
   ]
  },
  {
   "cell_type": "markdown",
   "metadata": {},
   "source": [
    "Inference : No clear pattern is observed. Heavier apps have better ratings(again the relation is not linear)"
   ]
  },
  {
   "cell_type": "markdown",
   "metadata": {},
   "source": [
    "#### Rating vs Reviews"
   ]
  },
  {
   "cell_type": "code",
   "execution_count": 48,
   "metadata": {},
   "outputs": [
    {
     "data": {
      "image/png": "[encoded data removed]",
      "text/plain": [
       "<Figure size 792x792 with 1 Axes>"
      ]
     },
     "metadata": {},
     "output_type": "display_data"
    }
   ],
   "source": [
    "plt.figure(figsize=(11,11))\n",
    "sns.set_style(style='darkgrid',)\n",
    "sns.set(font_scale=1.2)\n",
    "sns.scatterplot(x = dataset['Reviews'], y = dataset['Rating'],hue=dataset['Rating'], palette = 'hot_r').set_title(\"Rating vs Reviews\")\n",
    "#plt.savefig('Rating vs Reviews.png')    # ----> To save the plot\n",
    "plt.show()   "
   ]
  },
  {
   "cell_type": "markdown",
   "metadata": {},
   "source": [
    "Inference: Highly reviewed apps have better ratings. However, there is no clear pattern present"
   ]
  },
  {
   "cell_type": "markdown",
   "metadata": {},
   "source": [
    "#### Rating vs Content Rating"
   ]
  },
  {
   "cell_type": "code",
   "execution_count": 49,
   "metadata": {},
   "outputs": [
    {
     "data": {
      "image/png": "[encoded data removed]",
      "text/plain": [
       "<Figure size 720x504 with 1 Axes>"
      ]
     },
     "metadata": {},
     "output_type": "display_data"
    }
   ],
   "source": [
    "plt.figure(figsize=(10,7))\n",
    "x = sns.boxplot(x = dataset['Content Rating'], y = dataset['Rating'])\n",
    "x.set_xticklabels(x.get_xticklabels(), rotation=30)\n",
    "#plt.savefig('Rating vs Content Rating.png') #-----> To save the plot\n",
    "plt.show()"
   ]
  },
  {
   "cell_type": "markdown",
   "metadata": {},
   "source": [
    "Inference: \n",
    "1. There is significant overlap in the ratings among all the categories of 'Content Rating'. \n",
    "2. 'Adults only 18+' has the highest median value of ratings. But the no of apps present in this category is very less"
   ]
  },
  {
   "cell_type": "markdown",
   "metadata": {},
   "source": [
    "#### Rating vs Category"
   ]
  },
  {
   "cell_type": "code",
   "execution_count": 50,
   "metadata": {},
   "outputs": [
    {
     "data": {
      "image/png": "[encoded data removed]",
      "text/plain": [
       "<Figure size 1440x720 with 1 Axes>"
      ]
     },
     "metadata": {},
     "output_type": "display_data"
    }
   ],
   "source": [
    "plt.figure(figsize=(20,10))\n",
    "y = sns.boxplot(x = dataset['Category'], y = dataset['Rating'])\n",
    "y.set_xticklabels(y.get_xticklabels(), rotation=90)\n",
    "#plt.savefig('Rating vs Category.png')    # ------> To save the plot\n",
    "plt.show()"
   ]
  },
  {
   "cell_type": "markdown",
   "metadata": {},
   "source": [
    "Inference: Most of the categories have similar ratings. Apps in the 'Books and reference', 'Events' categories have the highest medians"
   ]
  },
  {
   "cell_type": "markdown",
   "metadata": {},
   "source": [
    "\n"
   ]
  },
  {
   "cell_type": "markdown",
   "metadata": {},
   "source": [
    "### Data preprocessing"
   ]
  },
  {
   "cell_type": "markdown",
   "metadata": {},
   "source": [
    "Create a copy of the dataframe and name it inp1"
   ]
  },
  {
   "cell_type": "code",
   "execution_count": 51,
   "metadata": {},
   "outputs": [],
   "source": [
    "inp1 = dataset.copy()"
   ]
  },
  {
   "cell_type": "code",
   "execution_count": 52,
   "metadata": {},
   "outputs": [
    {
     "data": {
      "text/plain": [
       "(7725, 13)"
      ]
     },
     "execution_count": 52,
     "metadata": {},
     "output_type": "execute_result"
    }
   ],
   "source": [
    "inp1.shape"
   ]
  },
  {
   "cell_type": "code",
   "execution_count": 53,
   "metadata": {},
   "outputs": [
    {
     "data": {
      "text/html": [
       "<div>\n",
       "<style scoped>\n",
       "    .dataframe tbody tr th:only-of-type {\n",
       "        vertical-align: middle;\n",
       "    }\n",
       "\n",
       "    .dataframe tbody tr th {\n",
       "        vertical-align: top;\n",
       "    }\n",
       "\n",
       "    .dataframe thead th {\n",
       "        text-align: right;\n",
       "    }\n",
       "</style>\n",
       "<table border=\"1\" class=\"dataframe\">\n",
       "  <thead>\n",
       "    <tr style=\"text-align: right;\">\n",
       "      <th></th>\n",
       "      <th>App</th>\n",
       "      <th>Category</th>\n",
       "      <th>Rating</th>\n",
       "      <th>Reviews</th>\n",
       "      <th>Size</th>\n",
       "      <th>Installs</th>\n",
       "      <th>Type</th>\n",
       "      <th>Price</th>\n",
       "      <th>Content Rating</th>\n",
       "      <th>Genres</th>\n",
       "      <th>Last Updated</th>\n",
       "      <th>Current Ver</th>\n",
       "      <th>Android Ver</th>\n",
       "    </tr>\n",
       "  </thead>\n",
       "  <tbody>\n",
       "    <tr>\n",
       "      <th>0</th>\n",
       "      <td>Photo Editor &amp; Candy Camera &amp; Grid &amp; ScrapBook</td>\n",
       "      <td>ART_AND_DESIGN</td>\n",
       "      <td>4.1</td>\n",
       "      <td>159</td>\n",
       "      <td>19000.0</td>\n",
       "      <td>10000</td>\n",
       "      <td>Free</td>\n",
       "      <td>0.0</td>\n",
       "      <td>Everyone</td>\n",
       "      <td>Art &amp; Design</td>\n",
       "      <td>January 7, 2018</td>\n",
       "      <td>1.0.0</td>\n",
       "      <td>4.0.3 and up</td>\n",
       "    </tr>\n",
       "    <tr>\n",
       "      <th>1</th>\n",
       "      <td>Coloring book moana</td>\n",
       "      <td>ART_AND_DESIGN</td>\n",
       "      <td>3.9</td>\n",
       "      <td>967</td>\n",
       "      <td>14000.0</td>\n",
       "      <td>500000</td>\n",
       "      <td>Free</td>\n",
       "      <td>0.0</td>\n",
       "      <td>Everyone</td>\n",
       "      <td>Art &amp; Design;Pretend Play</td>\n",
       "      <td>January 15, 2018</td>\n",
       "      <td>2.0.0</td>\n",
       "      <td>4.0.3 and up</td>\n",
       "    </tr>\n",
       "    <tr>\n",
       "      <th>2</th>\n",
       "      <td>U Launcher Lite – FREE Live Cool Themes, Hide ...</td>\n",
       "      <td>ART_AND_DESIGN</td>\n",
       "      <td>4.7</td>\n",
       "      <td>87510</td>\n",
       "      <td>8700.0</td>\n",
       "      <td>5000000</td>\n",
       "      <td>Free</td>\n",
       "      <td>0.0</td>\n",
       "      <td>Everyone</td>\n",
       "      <td>Art &amp; Design</td>\n",
       "      <td>August 1, 2018</td>\n",
       "      <td>1.2.4</td>\n",
       "      <td>4.0.3 and up</td>\n",
       "    </tr>\n",
       "    <tr>\n",
       "      <th>3</th>\n",
       "      <td>Pixel Draw - Number Art Coloring Book</td>\n",
       "      <td>ART_AND_DESIGN</td>\n",
       "      <td>4.3</td>\n",
       "      <td>967</td>\n",
       "      <td>2800.0</td>\n",
       "      <td>100000</td>\n",
       "      <td>Free</td>\n",
       "      <td>0.0</td>\n",
       "      <td>Everyone</td>\n",
       "      <td>Art &amp; Design;Creativity</td>\n",
       "      <td>June 20, 2018</td>\n",
       "      <td>1.1</td>\n",
       "      <td>4.4 and up</td>\n",
       "    </tr>\n",
       "    <tr>\n",
       "      <th>4</th>\n",
       "      <td>Paper flowers instructions</td>\n",
       "      <td>ART_AND_DESIGN</td>\n",
       "      <td>4.4</td>\n",
       "      <td>167</td>\n",
       "      <td>5600.0</td>\n",
       "      <td>50000</td>\n",
       "      <td>Free</td>\n",
       "      <td>0.0</td>\n",
       "      <td>Everyone</td>\n",
       "      <td>Art &amp; Design</td>\n",
       "      <td>March 26, 2017</td>\n",
       "      <td>1.0</td>\n",
       "      <td>2.3 and up</td>\n",
       "    </tr>\n",
       "  </tbody>\n",
       "</table>\n",
       "</div>"
      ],
      "text/plain": [
       "                                                 App        Category  Rating  \\\n",
       "0     Photo Editor & Candy Camera & Grid & ScrapBook  ART_AND_DESIGN     4.1   \n",
       "1                                Coloring book moana  ART_AND_DESIGN     3.9   \n",
       "2  U Launcher Lite – FREE Live Cool Themes, Hide ...  ART_AND_DESIGN     4.7   \n",
       "3              Pixel Draw - Number Art Coloring Book  ART_AND_DESIGN     4.3   \n",
       "4                         Paper flowers instructions  ART_AND_DESIGN     4.4   \n",
       "\n",
       "   Reviews     Size  Installs  Type  Price Content Rating  \\\n",
       "0      159  19000.0     10000  Free    0.0       Everyone   \n",
       "1      967  14000.0    500000  Free    0.0       Everyone   \n",
       "2    87510   8700.0   5000000  Free    0.0       Everyone   \n",
       "3      967   2800.0    100000  Free    0.0       Everyone   \n",
       "4      167   5600.0     50000  Free    0.0       Everyone   \n",
       "\n",
       "                      Genres      Last Updated Current Ver   Android Ver  \n",
       "0               Art & Design   January 7, 2018       1.0.0  4.0.3 and up  \n",
       "1  Art & Design;Pretend Play  January 15, 2018       2.0.0  4.0.3 and up  \n",
       "2               Art & Design    August 1, 2018       1.2.4  4.0.3 and up  \n",
       "3    Art & Design;Creativity     June 20, 2018         1.1    4.4 and up  \n",
       "4               Art & Design    March 26, 2017         1.0    2.3 and up  "
      ]
     },
     "execution_count": 53,
     "metadata": {},
     "output_type": "execute_result"
    }
   ],
   "source": [
    "inp1.head()"
   ]
  },
  {
   "cell_type": "code",
   "execution_count": 54,
   "metadata": {},
   "outputs": [
    {
     "data": {
      "text/plain": [
       "App                object\n",
       "Category           object\n",
       "Rating            float64\n",
       "Reviews             int32\n",
       "Size              float64\n",
       "Installs            int32\n",
       "Type               object\n",
       "Price             float64\n",
       "Content Rating     object\n",
       "Genres             object\n",
       "Last Updated       object\n",
       "Current Ver        object\n",
       "Android Ver        object\n",
       "dtype: object"
      ]
     },
     "execution_count": 54,
     "metadata": {},
     "output_type": "execute_result"
    }
   ],
   "source": [
    "inp1.dtypes"
   ]
  },
  {
   "cell_type": "markdown",
   "metadata": {},
   "source": [
    "- Reviews and Install have some values that are still relatively very high.\n",
    "- Before building a linear regression model,the skew should be reduced. \n",
    "- Apply log transformation (np.log1p) to Reviews and Installs."
   ]
  },
  {
   "cell_type": "code",
   "execution_count": 55,
   "metadata": {},
   "outputs": [],
   "source": [
    "#Log transformation on reviews\n",
    "inp1['Reviews'] = np.log1p(inp1['Reviews'])"
   ]
  },
  {
   "cell_type": "code",
   "execution_count": 56,
   "metadata": {},
   "outputs": [],
   "source": [
    "#Log transformation on Installs\n",
    "inp1['Installs'] = np.log1p(inp1['Installs'])"
   ]
  },
  {
   "cell_type": "markdown",
   "metadata": {},
   "source": [
    "Drop columns App, Last Updated, Current Ver, and Android Ver as these variables are not useful for the analysis"
   ]
  },
  {
   "cell_type": "code",
   "execution_count": 57,
   "metadata": {},
   "outputs": [],
   "source": [
    "inp1.drop(['App','Last Updated', 'Current Ver', 'Android Ver'], axis = 1, inplace = True)"
   ]
  },
  {
   "cell_type": "code",
   "execution_count": 58,
   "metadata": {},
   "outputs": [
    {
     "data": {
      "text/html": [
       "<div>\n",
       "<style scoped>\n",
       "    .dataframe tbody tr th:only-of-type {\n",
       "        vertical-align: middle;\n",
       "    }\n",
       "\n",
       "    .dataframe tbody tr th {\n",
       "        vertical-align: top;\n",
       "    }\n",
       "\n",
       "    .dataframe thead th {\n",
       "        text-align: right;\n",
       "    }\n",
       "</style>\n",
       "<table border=\"1\" class=\"dataframe\">\n",
       "  <thead>\n",
       "    <tr style=\"text-align: right;\">\n",
       "      <th></th>\n",
       "      <th>Category</th>\n",
       "      <th>Rating</th>\n",
       "      <th>Reviews</th>\n",
       "      <th>Size</th>\n",
       "      <th>Installs</th>\n",
       "      <th>Type</th>\n",
       "      <th>Price</th>\n",
       "      <th>Content Rating</th>\n",
       "      <th>Genres</th>\n",
       "    </tr>\n",
       "  </thead>\n",
       "  <tbody>\n",
       "    <tr>\n",
       "      <th>0</th>\n",
       "      <td>ART_AND_DESIGN</td>\n",
       "      <td>4.1</td>\n",
       "      <td>5.075174</td>\n",
       "      <td>19000.0</td>\n",
       "      <td>9.210440</td>\n",
       "      <td>Free</td>\n",
       "      <td>0.0</td>\n",
       "      <td>Everyone</td>\n",
       "      <td>Art &amp; Design</td>\n",
       "    </tr>\n",
       "    <tr>\n",
       "      <th>1</th>\n",
       "      <td>ART_AND_DESIGN</td>\n",
       "      <td>3.9</td>\n",
       "      <td>6.875232</td>\n",
       "      <td>14000.0</td>\n",
       "      <td>13.122365</td>\n",
       "      <td>Free</td>\n",
       "      <td>0.0</td>\n",
       "      <td>Everyone</td>\n",
       "      <td>Art &amp; Design;Pretend Play</td>\n",
       "    </tr>\n",
       "    <tr>\n",
       "      <th>2</th>\n",
       "      <td>ART_AND_DESIGN</td>\n",
       "      <td>4.7</td>\n",
       "      <td>11.379520</td>\n",
       "      <td>8700.0</td>\n",
       "      <td>15.424949</td>\n",
       "      <td>Free</td>\n",
       "      <td>0.0</td>\n",
       "      <td>Everyone</td>\n",
       "      <td>Art &amp; Design</td>\n",
       "    </tr>\n",
       "    <tr>\n",
       "      <th>3</th>\n",
       "      <td>ART_AND_DESIGN</td>\n",
       "      <td>4.3</td>\n",
       "      <td>6.875232</td>\n",
       "      <td>2800.0</td>\n",
       "      <td>11.512935</td>\n",
       "      <td>Free</td>\n",
       "      <td>0.0</td>\n",
       "      <td>Everyone</td>\n",
       "      <td>Art &amp; Design;Creativity</td>\n",
       "    </tr>\n",
       "    <tr>\n",
       "      <th>4</th>\n",
       "      <td>ART_AND_DESIGN</td>\n",
       "      <td>4.4</td>\n",
       "      <td>5.123964</td>\n",
       "      <td>5600.0</td>\n",
       "      <td>10.819798</td>\n",
       "      <td>Free</td>\n",
       "      <td>0.0</td>\n",
       "      <td>Everyone</td>\n",
       "      <td>Art &amp; Design</td>\n",
       "    </tr>\n",
       "  </tbody>\n",
       "</table>\n",
       "</div>"
      ],
      "text/plain": [
       "         Category  Rating    Reviews     Size   Installs  Type  Price  \\\n",
       "0  ART_AND_DESIGN     4.1   5.075174  19000.0   9.210440  Free    0.0   \n",
       "1  ART_AND_DESIGN     3.9   6.875232  14000.0  13.122365  Free    0.0   \n",
       "2  ART_AND_DESIGN     4.7  11.379520   8700.0  15.424949  Free    0.0   \n",
       "3  ART_AND_DESIGN     4.3   6.875232   2800.0  11.512935  Free    0.0   \n",
       "4  ART_AND_DESIGN     4.4   5.123964   5600.0  10.819798  Free    0.0   \n",
       "\n",
       "  Content Rating                     Genres  \n",
       "0       Everyone               Art & Design  \n",
       "1       Everyone  Art & Design;Pretend Play  \n",
       "2       Everyone               Art & Design  \n",
       "3       Everyone    Art & Design;Creativity  \n",
       "4       Everyone               Art & Design  "
      ]
     },
     "execution_count": 58,
     "metadata": {},
     "output_type": "execute_result"
    }
   ],
   "source": [
    "inp1.head()"
   ]
  },
  {
   "cell_type": "code",
   "execution_count": 59,
   "metadata": {},
   "outputs": [
    {
     "data": {
      "text/plain": [
       "(7725, 9)"
      ]
     },
     "execution_count": 59,
     "metadata": {},
     "output_type": "execute_result"
    }
   ],
   "source": [
    "inp1.shape"
   ]
  },
  {
   "cell_type": "markdown",
   "metadata": {},
   "source": [
    "Get dummy columns for Category, Genres, and Content Rating in a dataframe named inp2"
   ]
  },
  {
   "cell_type": "code",
   "execution_count": 60,
   "metadata": {},
   "outputs": [],
   "source": [
    "inp2 = pd.get_dummies(inp1,drop_first=True)"
   ]
  },
  {
   "cell_type": "code",
   "execution_count": 61,
   "metadata": {},
   "outputs": [
    {
     "data": {
      "text/html": [
       "<div>\n",
       "<style scoped>\n",
       "    .dataframe tbody tr th:only-of-type {\n",
       "        vertical-align: middle;\n",
       "    }\n",
       "\n",
       "    .dataframe tbody tr th {\n",
       "        vertical-align: top;\n",
       "    }\n",
       "\n",
       "    .dataframe thead th {\n",
       "        text-align: right;\n",
       "    }\n",
       "</style>\n",
       "<table border=\"1\" class=\"dataframe\">\n",
       "  <thead>\n",
       "    <tr style=\"text-align: right;\">\n",
       "      <th></th>\n",
       "      <th>Rating</th>\n",
       "      <th>Reviews</th>\n",
       "      <th>Size</th>\n",
       "      <th>Installs</th>\n",
       "      <th>Price</th>\n",
       "      <th>Category_AUTO_AND_VEHICLES</th>\n",
       "      <th>Category_BEAUTY</th>\n",
       "      <th>Category_BOOKS_AND_REFERENCE</th>\n",
       "      <th>Category_BUSINESS</th>\n",
       "      <th>Category_COMICS</th>\n",
       "      <th>...</th>\n",
       "      <th>Genres_Tools</th>\n",
       "      <th>Genres_Tools;Education</th>\n",
       "      <th>Genres_Travel &amp; Local</th>\n",
       "      <th>Genres_Travel &amp; Local;Action &amp; Adventure</th>\n",
       "      <th>Genres_Trivia</th>\n",
       "      <th>Genres_Video Players &amp; Editors</th>\n",
       "      <th>Genres_Video Players &amp; Editors;Creativity</th>\n",
       "      <th>Genres_Video Players &amp; Editors;Music &amp; Video</th>\n",
       "      <th>Genres_Weather</th>\n",
       "      <th>Genres_Word</th>\n",
       "    </tr>\n",
       "  </thead>\n",
       "  <tbody>\n",
       "    <tr>\n",
       "      <th>0</th>\n",
       "      <td>4.1</td>\n",
       "      <td>5.075174</td>\n",
       "      <td>19000.0</td>\n",
       "      <td>9.210440</td>\n",
       "      <td>0.0</td>\n",
       "      <td>0</td>\n",
       "      <td>0</td>\n",
       "      <td>0</td>\n",
       "      <td>0</td>\n",
       "      <td>0</td>\n",
       "      <td>...</td>\n",
       "      <td>0</td>\n",
       "      <td>0</td>\n",
       "      <td>0</td>\n",
       "      <td>0</td>\n",
       "      <td>0</td>\n",
       "      <td>0</td>\n",
       "      <td>0</td>\n",
       "      <td>0</td>\n",
       "      <td>0</td>\n",
       "      <td>0</td>\n",
       "    </tr>\n",
       "    <tr>\n",
       "      <th>1</th>\n",
       "      <td>3.9</td>\n",
       "      <td>6.875232</td>\n",
       "      <td>14000.0</td>\n",
       "      <td>13.122365</td>\n",
       "      <td>0.0</td>\n",
       "      <td>0</td>\n",
       "      <td>0</td>\n",
       "      <td>0</td>\n",
       "      <td>0</td>\n",
       "      <td>0</td>\n",
       "      <td>...</td>\n",
       "      <td>0</td>\n",
       "      <td>0</td>\n",
       "      <td>0</td>\n",
       "      <td>0</td>\n",
       "      <td>0</td>\n",
       "      <td>0</td>\n",
       "      <td>0</td>\n",
       "      <td>0</td>\n",
       "      <td>0</td>\n",
       "      <td>0</td>\n",
       "    </tr>\n",
       "    <tr>\n",
       "      <th>2</th>\n",
       "      <td>4.7</td>\n",
       "      <td>11.379520</td>\n",
       "      <td>8700.0</td>\n",
       "      <td>15.424949</td>\n",
       "      <td>0.0</td>\n",
       "      <td>0</td>\n",
       "      <td>0</td>\n",
       "      <td>0</td>\n",
       "      <td>0</td>\n",
       "      <td>0</td>\n",
       "      <td>...</td>\n",
       "      <td>0</td>\n",
       "      <td>0</td>\n",
       "      <td>0</td>\n",
       "      <td>0</td>\n",
       "      <td>0</td>\n",
       "      <td>0</td>\n",
       "      <td>0</td>\n",
       "      <td>0</td>\n",
       "      <td>0</td>\n",
       "      <td>0</td>\n",
       "    </tr>\n",
       "    <tr>\n",
       "      <th>3</th>\n",
       "      <td>4.3</td>\n",
       "      <td>6.875232</td>\n",
       "      <td>2800.0</td>\n",
       "      <td>11.512935</td>\n",
       "      <td>0.0</td>\n",
       "      <td>0</td>\n",
       "      <td>0</td>\n",
       "      <td>0</td>\n",
       "      <td>0</td>\n",
       "      <td>0</td>\n",
       "      <td>...</td>\n",
       "      <td>0</td>\n",
       "      <td>0</td>\n",
       "      <td>0</td>\n",
       "      <td>0</td>\n",
       "      <td>0</td>\n",
       "      <td>0</td>\n",
       "      <td>0</td>\n",
       "      <td>0</td>\n",
       "      <td>0</td>\n",
       "      <td>0</td>\n",
       "    </tr>\n",
       "    <tr>\n",
       "      <th>4</th>\n",
       "      <td>4.4</td>\n",
       "      <td>5.123964</td>\n",
       "      <td>5600.0</td>\n",
       "      <td>10.819798</td>\n",
       "      <td>0.0</td>\n",
       "      <td>0</td>\n",
       "      <td>0</td>\n",
       "      <td>0</td>\n",
       "      <td>0</td>\n",
       "      <td>0</td>\n",
       "      <td>...</td>\n",
       "      <td>0</td>\n",
       "      <td>0</td>\n",
       "      <td>0</td>\n",
       "      <td>0</td>\n",
       "      <td>0</td>\n",
       "      <td>0</td>\n",
       "      <td>0</td>\n",
       "      <td>0</td>\n",
       "      <td>0</td>\n",
       "      <td>0</td>\n",
       "    </tr>\n",
       "  </tbody>\n",
       "</table>\n",
       "<p>5 rows × 156 columns</p>\n",
       "</div>"
      ],
      "text/plain": [
       "   Rating    Reviews     Size   Installs  Price  Category_AUTO_AND_VEHICLES  \\\n",
       "0     4.1   5.075174  19000.0   9.210440    0.0                           0   \n",
       "1     3.9   6.875232  14000.0  13.122365    0.0                           0   \n",
       "2     4.7  11.379520   8700.0  15.424949    0.0                           0   \n",
       "3     4.3   6.875232   2800.0  11.512935    0.0                           0   \n",
       "4     4.4   5.123964   5600.0  10.819798    0.0                           0   \n",
       "\n",
       "   Category_BEAUTY  Category_BOOKS_AND_REFERENCE  Category_BUSINESS  \\\n",
       "0                0                             0                  0   \n",
       "1                0                             0                  0   \n",
       "2                0                             0                  0   \n",
       "3                0                             0                  0   \n",
       "4                0                             0                  0   \n",
       "\n",
       "   Category_COMICS  ...  Genres_Tools  Genres_Tools;Education  \\\n",
       "0                0  ...             0                       0   \n",
       "1                0  ...             0                       0   \n",
       "2                0  ...             0                       0   \n",
       "3                0  ...             0                       0   \n",
       "4                0  ...             0                       0   \n",
       "\n",
       "   Genres_Travel & Local  Genres_Travel & Local;Action & Adventure  \\\n",
       "0                      0                                         0   \n",
       "1                      0                                         0   \n",
       "2                      0                                         0   \n",
       "3                      0                                         0   \n",
       "4                      0                                         0   \n",
       "\n",
       "   Genres_Trivia  Genres_Video Players & Editors  \\\n",
       "0              0                               0   \n",
       "1              0                               0   \n",
       "2              0                               0   \n",
       "3              0                               0   \n",
       "4              0                               0   \n",
       "\n",
       "   Genres_Video Players & Editors;Creativity  \\\n",
       "0                                          0   \n",
       "1                                          0   \n",
       "2                                          0   \n",
       "3                                          0   \n",
       "4                                          0   \n",
       "\n",
       "   Genres_Video Players & Editors;Music & Video  Genres_Weather  Genres_Word  \n",
       "0                                             0               0            0  \n",
       "1                                             0               0            0  \n",
       "2                                             0               0            0  \n",
       "3                                             0               0            0  \n",
       "4                                             0               0            0  \n",
       "\n",
       "[5 rows x 156 columns]"
      ]
     },
     "execution_count": 61,
     "metadata": {},
     "output_type": "execute_result"
    }
   ],
   "source": [
    "inp2.head()"
   ]
  },
  {
   "cell_type": "markdown",
   "metadata": {},
   "source": [
    "#### 70 - 30 Train test split"
   ]
  },
  {
   "cell_type": "code",
   "execution_count": 62,
   "metadata": {},
   "outputs": [],
   "source": [
    "X = inp2.iloc[:, 1:] # Predictor variables\n",
    "y = inp2.iloc[:, 0]  # Target Variable"
   ]
  },
  {
   "cell_type": "code",
   "execution_count": 63,
   "metadata": {},
   "outputs": [],
   "source": [
    "from sklearn.model_selection import train_test_split\n",
    "X_train, X_test, y_train, y_test = train_test_split(X, y, test_size = 0.3, random_state = 63)"
   ]
  },
  {
   "cell_type": "code",
   "execution_count": 64,
   "metadata": {},
   "outputs": [
    {
     "data": {
      "text/plain": [
       "((5407, 155), (2318, 155), (5407,), (2318,))"
      ]
     },
     "execution_count": 64,
     "metadata": {},
     "output_type": "execute_result"
    }
   ],
   "source": [
    "X_train.shape,X_test.shape, y_train.shape, y_test.shape"
   ]
  },
  {
   "cell_type": "code",
   "execution_count": 65,
   "metadata": {},
   "outputs": [],
   "source": [
    "df_train = pd.concat([X_train, y_train], axis = 1) # Train dataframe\n",
    "df_test = pd.concat([X_test, y_test], axis = 1)    # Test dataframe"
   ]
  },
  {
   "cell_type": "markdown",
   "metadata": {},
   "source": [
    "## Model Building"
   ]
  },
  {
   "cell_type": "code",
   "execution_count": 66,
   "metadata": {},
   "outputs": [],
   "source": [
    "from sklearn.linear_model import LinearRegression\n",
    "lr = LinearRegression()  #Creating the linear regression object"
   ]
  },
  {
   "cell_type": "code",
   "execution_count": 67,
   "metadata": {},
   "outputs": [
    {
     "data": {
      "text/plain": [
       "LinearRegression()"
      ]
     },
     "execution_count": 67,
     "metadata": {},
     "output_type": "execute_result"
    }
   ],
   "source": [
    "#Training the model\n",
    "lr.fit(X_train, y_train)"
   ]
  },
  {
   "cell_type": "markdown",
   "metadata": {},
   "source": [
    "### R square value for train data"
   ]
  },
  {
   "cell_type": "code",
   "execution_count": 68,
   "metadata": {},
   "outputs": [],
   "source": [
    "r2_train = lr.score(X_train, y_train)"
   ]
  },
  {
   "cell_type": "code",
   "execution_count": 69,
   "metadata": {},
   "outputs": [
    {
     "name": "stdout",
     "output_type": "stream",
     "text": [
      "R square of train data = 0.14892699986877223\n"
     ]
    }
   ],
   "source": [
    "print(\"R square of train data = {}\".format(r2_train))"
   ]
  },
  {
   "cell_type": "markdown",
   "metadata": {},
   "source": [
    "#### Predicting the test set results"
   ]
  },
  {
   "cell_type": "code",
   "execution_count": 70,
   "metadata": {},
   "outputs": [],
   "source": [
    "y_pred = lr.predict(X_test)"
   ]
  },
  {
   "cell_type": "code",
   "execution_count": 71,
   "metadata": {},
   "outputs": [
    {
     "data": {
      "text/plain": [
       "array([4.31718167, 3.86385464, 4.46009653, ..., 4.2187353 , 4.67042087,\n",
       "       3.87563736])"
      ]
     },
     "execution_count": 71,
     "metadata": {},
     "output_type": "execute_result"
    }
   ],
   "source": [
    "y_pred"
   ]
  },
  {
   "cell_type": "markdown",
   "metadata": {},
   "source": [
    "### R square value for test data"
   ]
  },
  {
   "cell_type": "code",
   "execution_count": 72,
   "metadata": {},
   "outputs": [],
   "source": [
    "r2_test = lr.score(X_test, y_test)"
   ]
  },
  {
   "cell_type": "code",
   "execution_count": 73,
   "metadata": {},
   "outputs": [
    {
     "name": "stdout",
     "output_type": "stream",
     "text": [
      "R square of test data = 0.1501633930074462\n"
     ]
    }
   ],
   "source": [
    "print(\"R square of test data = {}\".format(r2_test))"
   ]
  },
  {
   "cell_type": "markdown",
   "metadata": {},
   "source": [
    "### RMSE[Root Mean squared Error]"
   ]
  },
  {
   "cell_type": "code",
   "execution_count": 74,
   "metadata": {},
   "outputs": [],
   "source": [
    "from sklearn.metrics import mean_squared_error as ms\n",
    "RMSE = np.sqrt(ms(y_test,y_pred))"
   ]
  },
  {
   "cell_type": "markdown",
   "metadata": {},
   "source": [
    "### Residual plot"
   ]
  },
  {
   "cell_type": "code",
   "execution_count": 75,
   "metadata": {},
   "outputs": [],
   "source": [
    "y_test=np.array(y_test)\n",
    "y_pred=np.array(y_pred)\n",
    "\n",
    "results=pd.DataFrame({'Actual':y_test.flatten(),'Predicted':y_pred.flatten()});"
   ]
  },
  {
   "cell_type": "code",
   "execution_count": 76,
   "metadata": {},
   "outputs": [],
   "source": [
    "results['diff'] = results['Predicted'] - results['Actual']"
   ]
  },
  {
   "cell_type": "code",
   "execution_count": 77,
   "metadata": {},
   "outputs": [
    {
     "data": {
      "text/html": [
       "<div>\n",
       "<style scoped>\n",
       "    .dataframe tbody tr th:only-of-type {\n",
       "        vertical-align: middle;\n",
       "    }\n",
       "\n",
       "    .dataframe tbody tr th {\n",
       "        vertical-align: top;\n",
       "    }\n",
       "\n",
       "    .dataframe thead th {\n",
       "        text-align: right;\n",
       "    }\n",
       "</style>\n",
       "<table border=\"1\" class=\"dataframe\">\n",
       "  <thead>\n",
       "    <tr style=\"text-align: right;\">\n",
       "      <th></th>\n",
       "      <th>Actual</th>\n",
       "      <th>Predicted</th>\n",
       "      <th>diff</th>\n",
       "    </tr>\n",
       "  </thead>\n",
       "  <tbody>\n",
       "    <tr>\n",
       "      <th>0</th>\n",
       "      <td>4.3</td>\n",
       "      <td>4.317182</td>\n",
       "      <td>0.017182</td>\n",
       "    </tr>\n",
       "    <tr>\n",
       "      <th>1</th>\n",
       "      <td>3.5</td>\n",
       "      <td>3.863855</td>\n",
       "      <td>0.363855</td>\n",
       "    </tr>\n",
       "    <tr>\n",
       "      <th>2</th>\n",
       "      <td>5.0</td>\n",
       "      <td>4.460097</td>\n",
       "      <td>-0.539903</td>\n",
       "    </tr>\n",
       "    <tr>\n",
       "      <th>3</th>\n",
       "      <td>4.1</td>\n",
       "      <td>4.313458</td>\n",
       "      <td>0.213458</td>\n",
       "    </tr>\n",
       "    <tr>\n",
       "      <th>4</th>\n",
       "      <td>4.6</td>\n",
       "      <td>3.828671</td>\n",
       "      <td>-0.771329</td>\n",
       "    </tr>\n",
       "    <tr>\n",
       "      <th>...</th>\n",
       "      <td>...</td>\n",
       "      <td>...</td>\n",
       "      <td>...</td>\n",
       "    </tr>\n",
       "    <tr>\n",
       "      <th>2313</th>\n",
       "      <td>3.7</td>\n",
       "      <td>4.030968</td>\n",
       "      <td>0.330968</td>\n",
       "    </tr>\n",
       "    <tr>\n",
       "      <th>2314</th>\n",
       "      <td>3.8</td>\n",
       "      <td>4.047495</td>\n",
       "      <td>0.247495</td>\n",
       "    </tr>\n",
       "    <tr>\n",
       "      <th>2315</th>\n",
       "      <td>4.5</td>\n",
       "      <td>4.218735</td>\n",
       "      <td>-0.281265</td>\n",
       "    </tr>\n",
       "    <tr>\n",
       "      <th>2316</th>\n",
       "      <td>5.0</td>\n",
       "      <td>4.670421</td>\n",
       "      <td>-0.329579</td>\n",
       "    </tr>\n",
       "    <tr>\n",
       "      <th>2317</th>\n",
       "      <td>4.3</td>\n",
       "      <td>3.875637</td>\n",
       "      <td>-0.424363</td>\n",
       "    </tr>\n",
       "  </tbody>\n",
       "</table>\n",
       "<p>2318 rows × 3 columns</p>\n",
       "</div>"
      ],
      "text/plain": [
       "      Actual  Predicted      diff\n",
       "0        4.3   4.317182  0.017182\n",
       "1        3.5   3.863855  0.363855\n",
       "2        5.0   4.460097 -0.539903\n",
       "3        4.1   4.313458  0.213458\n",
       "4        4.6   3.828671 -0.771329\n",
       "...      ...        ...       ...\n",
       "2313     3.7   4.030968  0.330968\n",
       "2314     3.8   4.047495  0.247495\n",
       "2315     4.5   4.218735 -0.281265\n",
       "2316     5.0   4.670421 -0.329579\n",
       "2317     4.3   3.875637 -0.424363\n",
       "\n",
       "[2318 rows x 3 columns]"
      ]
     },
     "execution_count": 77,
     "metadata": {},
     "output_type": "execute_result"
    }
   ],
   "source": [
    "results"
   ]
  },
  {
   "cell_type": "code",
   "execution_count": 78,
   "metadata": {},
   "outputs": [
    {
     "data": {
      "image/png": "[encoded data removed]",
      "text/plain": [
       "<Figure size 1040x520 with 1 Axes>"
      ]
     },
     "metadata": {},
     "output_type": "display_data"
    }
   ],
   "source": [
    "plt.figure(figsize=(8, 4), dpi=130, facecolor='w', edgecolor='b')\n",
    "f = range(0,len(y_test))\n",
    "k = [0 for i in range(0,len(y_test))]\n",
    "plt.scatter(f, y= results['diff'], label = 'Residuals')\n",
    "plt.plot(f, k , color = 'red', label = 'Mean' )\n",
    "plt.xlabel('fitted points')\n",
    "plt.ylabel('residuals')\n",
    "plt.title('Residual plot')\n",
    "plt.legend()\n",
    "#plt.savefig('Residual plot - Test data.png') #---->To save the plot"
   ]
  },
  {
   "cell_type": "markdown",
   "metadata": {},
   "source": [
    "#### OLS Summary"
   ]
  },
  {
   "cell_type": "code",
   "execution_count": 79,
   "metadata": {},
   "outputs": [
    {
     "data": {
      "text/html": [
       "<table class=\"simpletable\">\n",
       "<caption>OLS Regression Results</caption>\n",
       "<tr>\n",
       "  <th>Dep. Variable:</th>         <td>Rating</td>      <th>  R-squared (uncentered):</th>      <td>   0.986</td>\n",
       "</tr>\n",
       "<tr>\n",
       "  <th>Model:</th>                   <td>OLS</td>       <th>  Adj. R-squared (uncentered):</th> <td>   0.986</td>\n",
       "</tr>\n",
       "<tr>\n",
       "  <th>Method:</th>             <td>Least Squares</td>  <th>  F-statistic:       </th>          <td>   3052.</td>\n",
       "</tr>\n",
       "<tr>\n",
       "  <th>Date:</th>             <td>Sat, 03 Apr 2021</td> <th>  Prob (F-statistic):</th>           <td>  0.00</td> \n",
       "</tr>\n",
       "<tr>\n",
       "  <th>Time:</th>                 <td>18:30:14</td>     <th>  Log-Likelihood:    </th>          <td> -3914.3</td>\n",
       "</tr>\n",
       "<tr>\n",
       "  <th>No. Observations:</th>      <td>  5407</td>      <th>  AIC:               </th>          <td>   8071.</td>\n",
       "</tr>\n",
       "<tr>\n",
       "  <th>Df Residuals:</th>          <td>  5286</td>      <th>  BIC:               </th>          <td>   8869.</td>\n",
       "</tr>\n",
       "<tr>\n",
       "  <th>Df Model:</th>              <td>   121</td>      <th>                     </th>              <td> </td>   \n",
       "</tr>\n",
       "<tr>\n",
       "  <th>Covariance Type:</th>      <td>nonrobust</td>    <th>                     </th>              <td> </td>   \n",
       "</tr>\n",
       "</table>\n",
       "<table class=\"simpletable\">\n",
       "<tr>\n",
       "                        <td></td>                          <th>coef</th>     <th>std err</th>      <th>t</th>      <th>P>|t|</th>  <th>[0.025</th>    <th>0.975]</th>  \n",
       "</tr>\n",
       "<tr>\n",
       "  <th>Reviews</th>                                      <td>    0.1682</td> <td>    0.007</td> <td>   24.249</td> <td> 0.000</td> <td>    0.155</td> <td>    0.182</td>\n",
       "</tr>\n",
       "<tr>\n",
       "  <th>Size</th>                                         <td> 1.179e-07</td> <td> 3.78e-07</td> <td>    0.312</td> <td> 0.755</td> <td>-6.22e-07</td> <td> 8.58e-07</td>\n",
       "</tr>\n",
       "<tr>\n",
       "  <th>Installs</th>                                     <td>   -0.1467</td> <td>    0.007</td> <td>  -21.108</td> <td> 0.000</td> <td>   -0.160</td> <td>   -0.133</td>\n",
       "</tr>\n",
       "<tr>\n",
       "  <th>Price</th>                                        <td>   -0.0069</td> <td>    0.005</td> <td>   -1.354</td> <td> 0.176</td> <td>   -0.017</td> <td>    0.003</td>\n",
       "</tr>\n",
       "<tr>\n",
       "  <th>Category_AUTO_AND_VEHICLES</th>                   <td>    1.2210</td> <td>    0.198</td> <td>    6.174</td> <td> 0.000</td> <td>    0.833</td> <td>    1.609</td>\n",
       "</tr>\n",
       "<tr>\n",
       "  <th>Category_BEAUTY</th>                              <td>    1.3080</td> <td>    0.200</td> <td>    6.529</td> <td> 0.000</td> <td>    0.915</td> <td>    1.701</td>\n",
       "</tr>\n",
       "<tr>\n",
       "  <th>Category_BOOKS_AND_REFERENCE</th>                 <td>    1.3032</td> <td>    0.195</td> <td>    6.675</td> <td> 0.000</td> <td>    0.920</td> <td>    1.686</td>\n",
       "</tr>\n",
       "<tr>\n",
       "  <th>Category_BUSINESS</th>                            <td>    1.1990</td> <td>    0.195</td> <td>    6.161</td> <td> 0.000</td> <td>    0.817</td> <td>    1.581</td>\n",
       "</tr>\n",
       "<tr>\n",
       "  <th>Category_COMICS</th>                              <td>    1.8583</td> <td>    0.307</td> <td>    6.059</td> <td> 0.000</td> <td>    1.257</td> <td>    2.460</td>\n",
       "</tr>\n",
       "<tr>\n",
       "  <th>Category_COMMUNICATION</th>                       <td>    1.1625</td> <td>    0.195</td> <td>    5.966</td> <td> 0.000</td> <td>    0.781</td> <td>    1.544</td>\n",
       "</tr>\n",
       "<tr>\n",
       "  <th>Category_DATING</th>                              <td>    1.1262</td> <td>    0.196</td> <td>    5.748</td> <td> 0.000</td> <td>    0.742</td> <td>    1.510</td>\n",
       "</tr>\n",
       "<tr>\n",
       "  <th>Category_EDUCATION</th>                           <td>    2.0999</td> <td>    0.394</td> <td>    5.327</td> <td> 0.000</td> <td>    1.327</td> <td>    2.873</td>\n",
       "</tr>\n",
       "<tr>\n",
       "  <th>Category_ENTERTAINMENT</th>                       <td>    2.1382</td> <td>    0.395</td> <td>    5.409</td> <td> 0.000</td> <td>    1.363</td> <td>    2.913</td>\n",
       "</tr>\n",
       "<tr>\n",
       "  <th>Category_EVENTS</th>                              <td>    1.3738</td> <td>    0.199</td> <td>    6.920</td> <td> 0.000</td> <td>    0.985</td> <td>    1.763</td>\n",
       "</tr>\n",
       "<tr>\n",
       "  <th>Category_FAMILY</th>                              <td>    2.1427</td> <td>    0.388</td> <td>    5.516</td> <td> 0.000</td> <td>    1.381</td> <td>    2.904</td>\n",
       "</tr>\n",
       "<tr>\n",
       "  <th>Category_FINANCE</th>                             <td>    1.1756</td> <td>    0.195</td> <td>    6.044</td> <td> 0.000</td> <td>    0.794</td> <td>    1.557</td>\n",
       "</tr>\n",
       "<tr>\n",
       "  <th>Category_FOOD_AND_DRINK</th>                      <td>    1.2066</td> <td>    0.196</td> <td>    6.150</td> <td> 0.000</td> <td>    0.822</td> <td>    1.591</td>\n",
       "</tr>\n",
       "<tr>\n",
       "  <th>Category_GAME</th>                                <td>    2.3677</td> <td>    0.388</td> <td>    6.105</td> <td> 0.000</td> <td>    1.607</td> <td>    3.128</td>\n",
       "</tr>\n",
       "<tr>\n",
       "  <th>Category_HEALTH_AND_FITNESS</th>                  <td>    1.2123</td> <td>    0.195</td> <td>    6.225</td> <td> 0.000</td> <td>    0.831</td> <td>    1.594</td>\n",
       "</tr>\n",
       "<tr>\n",
       "  <th>Category_HOUSE_AND_HOME</th>                      <td>    1.2376</td> <td>    0.198</td> <td>    6.263</td> <td> 0.000</td> <td>    0.850</td> <td>    1.625</td>\n",
       "</tr>\n",
       "<tr>\n",
       "  <th>Category_LIBRARIES_AND_DEMO</th>                  <td>    1.2512</td> <td>    0.197</td> <td>    6.342</td> <td> 0.000</td> <td>    0.864</td> <td>    1.638</td>\n",
       "</tr>\n",
       "<tr>\n",
       "  <th>Category_LIFESTYLE</th>                           <td>    1.5333</td> <td>    0.309</td> <td>    4.964</td> <td> 0.000</td> <td>    0.928</td> <td>    2.139</td>\n",
       "</tr>\n",
       "<tr>\n",
       "  <th>Category_MAPS_AND_NAVIGATION</th>                 <td>    1.1419</td> <td>    0.196</td> <td>    5.836</td> <td> 0.000</td> <td>    0.758</td> <td>    1.525</td>\n",
       "</tr>\n",
       "<tr>\n",
       "  <th>Category_MEDICAL</th>                             <td>    1.2430</td> <td>    0.195</td> <td>    6.389</td> <td> 0.000</td> <td>    0.862</td> <td>    1.624</td>\n",
       "</tr>\n",
       "<tr>\n",
       "  <th>Category_NEWS_AND_MAGAZINES</th>                  <td>    1.1927</td> <td>    0.195</td> <td>    6.124</td> <td> 0.000</td> <td>    0.811</td> <td>    1.574</td>\n",
       "</tr>\n",
       "<tr>\n",
       "  <th>Category_PARENTING</th>                           <td>    1.9698</td> <td>    0.311</td> <td>    6.343</td> <td> 0.000</td> <td>    1.361</td> <td>    2.579</td>\n",
       "</tr>\n",
       "<tr>\n",
       "  <th>Category_PERSONALIZATION</th>                     <td>    1.2721</td> <td>    0.195</td> <td>    6.538</td> <td> 0.000</td> <td>    0.891</td> <td>    1.654</td>\n",
       "</tr>\n",
       "<tr>\n",
       "  <th>Category_PHOTOGRAPHY</th>                         <td>    1.1729</td> <td>    0.195</td> <td>    6.016</td> <td> 0.000</td> <td>    0.791</td> <td>    1.555</td>\n",
       "</tr>\n",
       "<tr>\n",
       "  <th>Category_PRODUCTIVITY</th>                        <td>    1.2063</td> <td>    0.195</td> <td>    6.198</td> <td> 0.000</td> <td>    0.825</td> <td>    1.588</td>\n",
       "</tr>\n",
       "<tr>\n",
       "  <th>Category_SHOPPING</th>                            <td>    1.2175</td> <td>    0.195</td> <td>    6.240</td> <td> 0.000</td> <td>    0.835</td> <td>    1.600</td>\n",
       "</tr>\n",
       "<tr>\n",
       "  <th>Category_SOCIAL</th>                              <td>    1.2248</td> <td>    0.195</td> <td>    6.284</td> <td> 0.000</td> <td>    0.843</td> <td>    1.607</td>\n",
       "</tr>\n",
       "<tr>\n",
       "  <th>Category_SPORTS</th>                              <td>    2.2268</td> <td>    0.529</td> <td>    4.213</td> <td> 0.000</td> <td>    1.191</td> <td>    3.263</td>\n",
       "</tr>\n",
       "<tr>\n",
       "  <th>Category_TOOLS</th>                               <td>    1.6219</td> <td>    0.309</td> <td>    5.257</td> <td> 0.000</td> <td>    1.017</td> <td>    2.227</td>\n",
       "</tr>\n",
       "<tr>\n",
       "  <th>Category_TRAVEL_AND_LOCAL</th>                    <td>    1.6150</td> <td>    0.309</td> <td>    5.230</td> <td> 0.000</td> <td>    1.010</td> <td>    2.220</td>\n",
       "</tr>\n",
       "<tr>\n",
       "  <th>Category_VIDEO_PLAYERS</th>                       <td>    1.1424</td> <td>    0.196</td> <td>    5.838</td> <td> 0.000</td> <td>    0.759</td> <td>    1.526</td>\n",
       "</tr>\n",
       "<tr>\n",
       "  <th>Category_WEATHER</th>                             <td>    1.2088</td> <td>    0.197</td> <td>    6.127</td> <td> 0.000</td> <td>    0.822</td> <td>    1.596</td>\n",
       "</tr>\n",
       "<tr>\n",
       "  <th>Type_Paid</th>                                    <td>   -0.0364</td> <td>    0.037</td> <td>   -0.979</td> <td> 0.327</td> <td>   -0.109</td> <td>    0.037</td>\n",
       "</tr>\n",
       "<tr>\n",
       "  <th>Content Rating_Everyone</th>                      <td>    2.1761</td> <td>    0.387</td> <td>    5.628</td> <td> 0.000</td> <td>    1.418</td> <td>    2.934</td>\n",
       "</tr>\n",
       "<tr>\n",
       "  <th>Content Rating_Everyone 10+</th>                  <td>    2.1420</td> <td>    0.388</td> <td>    5.521</td> <td> 0.000</td> <td>    1.381</td> <td>    2.903</td>\n",
       "</tr>\n",
       "<tr>\n",
       "  <th>Content Rating_Mature 17+</th>                    <td>    2.1349</td> <td>    0.388</td> <td>    5.502</td> <td> 0.000</td> <td>    1.374</td> <td>    2.895</td>\n",
       "</tr>\n",
       "<tr>\n",
       "  <th>Content Rating_Teen</th>                          <td>    2.1858</td> <td>    0.387</td> <td>    5.652</td> <td> 0.000</td> <td>    1.428</td> <td>    2.944</td>\n",
       "</tr>\n",
       "<tr>\n",
       "  <th>Content Rating_Unrated</th>                       <td> 1.018e-11</td> <td> 3.29e-11</td> <td>    0.309</td> <td> 0.757</td> <td>-5.44e-11</td> <td> 7.47e-11</td>\n",
       "</tr>\n",
       "<tr>\n",
       "  <th>Genres_Action;Action & Adventure</th>             <td>    0.2793</td> <td>    0.192</td> <td>    1.452</td> <td> 0.146</td> <td>   -0.098</td> <td>    0.656</td>\n",
       "</tr>\n",
       "<tr>\n",
       "  <th>Genres_Adventure</th>                             <td>   -0.0333</td> <td>    0.079</td> <td>   -0.420</td> <td> 0.675</td> <td>   -0.189</td> <td>    0.122</td>\n",
       "</tr>\n",
       "<tr>\n",
       "  <th>Genres_Adventure;Action & Adventure</th>          <td>    0.2199</td> <td>    0.305</td> <td>    0.720</td> <td> 0.471</td> <td>   -0.379</td> <td>    0.819</td>\n",
       "</tr>\n",
       "<tr>\n",
       "  <th>Genres_Adventure;Brain Games</th>                 <td>-6.715e-13</td> <td> 2.05e-11</td> <td>   -0.033</td> <td> 0.974</td> <td>-4.09e-11</td> <td> 3.95e-11</td>\n",
       "</tr>\n",
       "<tr>\n",
       "  <th>Genres_Adventure;Education</th>                   <td> -2.07e-11</td> <td> 3.72e-11</td> <td>   -0.557</td> <td> 0.578</td> <td>-9.36e-11</td> <td> 5.22e-11</td>\n",
       "</tr>\n",
       "<tr>\n",
       "  <th>Genres_Arcade</th>                                <td>    0.0569</td> <td>    0.065</td> <td>    0.880</td> <td> 0.379</td> <td>   -0.070</td> <td>    0.184</td>\n",
       "</tr>\n",
       "<tr>\n",
       "  <th>Genres_Arcade;Action & Adventure</th>             <td>    0.2971</td> <td>    0.200</td> <td>    1.489</td> <td> 0.137</td> <td>   -0.094</td> <td>    0.688</td>\n",
       "</tr>\n",
       "<tr>\n",
       "  <th>Genres_Arcade;Pretend Play</th>                   <td>    0.5036</td> <td>    0.513</td> <td>    0.981</td> <td> 0.326</td> <td>   -0.502</td> <td>    1.510</td>\n",
       "</tr>\n",
       "<tr>\n",
       "  <th>Genres_Art & Design</th>                          <td>    2.7131</td> <td>    0.396</td> <td>    6.852</td> <td> 0.000</td> <td>    1.937</td> <td>    3.489</td>\n",
       "</tr>\n",
       "<tr>\n",
       "  <th>Genres_Art & Design;Creativity</th>               <td>    2.0169</td> <td>    0.387</td> <td>    5.206</td> <td> 0.000</td> <td>    1.257</td> <td>    2.776</td>\n",
       "</tr>\n",
       "<tr>\n",
       "  <th>Genres_Art & Design;Pretend Play</th>             <td>    2.4914</td> <td>    0.637</td> <td>    3.911</td> <td> 0.000</td> <td>    1.242</td> <td>    3.740</td>\n",
       "</tr>\n",
       "<tr>\n",
       "  <th>Genres_Auto & Vehicles</th>                       <td>    1.2210</td> <td>    0.198</td> <td>    6.174</td> <td> 0.000</td> <td>    0.833</td> <td>    1.609</td>\n",
       "</tr>\n",
       "<tr>\n",
       "  <th>Genres_Beauty</th>                                <td>    1.3080</td> <td>    0.200</td> <td>    6.529</td> <td> 0.000</td> <td>    0.915</td> <td>    1.701</td>\n",
       "</tr>\n",
       "<tr>\n",
       "  <th>Genres_Board</th>                                 <td>   -0.0060</td> <td>    0.106</td> <td>   -0.057</td> <td> 0.954</td> <td>   -0.213</td> <td>    0.201</td>\n",
       "</tr>\n",
       "<tr>\n",
       "  <th>Genres_Board;Action & Adventure</th>              <td>    0.1542</td> <td>    0.305</td> <td>    0.506</td> <td> 0.613</td> <td>   -0.444</td> <td>    0.752</td>\n",
       "</tr>\n",
       "<tr>\n",
       "  <th>Genres_Board;Brain Games</th>                     <td>    0.4477</td> <td>    0.191</td> <td>    2.346</td> <td> 0.019</td> <td>    0.074</td> <td>    0.822</td>\n",
       "</tr>\n",
       "<tr>\n",
       "  <th>Genres_Board;Pretend Play</th>                    <td>  7.12e-13</td> <td> 1.73e-11</td> <td>    0.041</td> <td> 0.967</td> <td>-3.33e-11</td> <td> 3.47e-11</td>\n",
       "</tr>\n",
       "<tr>\n",
       "  <th>Genres_Books & Reference</th>                     <td>    1.3032</td> <td>    0.195</td> <td>    6.675</td> <td> 0.000</td> <td>    0.920</td> <td>    1.686</td>\n",
       "</tr>\n",
       "<tr>\n",
       "  <th>Genres_Books & Reference;Education</th>           <td>    0.2672</td> <td>    0.368</td> <td>    0.726</td> <td> 0.468</td> <td>   -0.454</td> <td>    0.989</td>\n",
       "</tr>\n",
       "<tr>\n",
       "  <th>Genres_Business</th>                              <td>    1.1990</td> <td>    0.195</td> <td>    6.161</td> <td> 0.000</td> <td>    0.817</td> <td>    1.581</td>\n",
       "</tr>\n",
       "<tr>\n",
       "  <th>Genres_Card</th>                                  <td>   -0.0564</td> <td>    0.097</td> <td>   -0.580</td> <td> 0.562</td> <td>   -0.247</td> <td>    0.134</td>\n",
       "</tr>\n",
       "<tr>\n",
       "  <th>Genres_Card;Action & Adventure</th>               <td>    0.0920</td> <td>    0.369</td> <td>    0.249</td> <td> 0.803</td> <td>   -0.632</td> <td>    0.816</td>\n",
       "</tr>\n",
       "<tr>\n",
       "  <th>Genres_Casino</th>                                <td>    0.1389</td> <td>    0.105</td> <td>    1.320</td> <td> 0.187</td> <td>   -0.067</td> <td>    0.345</td>\n",
       "</tr>\n",
       "<tr>\n",
       "  <th>Genres_Casual</th>                                <td>    0.0896</td> <td>    0.097</td> <td>    0.929</td> <td> 0.353</td> <td>   -0.100</td> <td>    0.279</td>\n",
       "</tr>\n",
       "<tr>\n",
       "  <th>Genres_Casual;Action & Adventure</th>             <td>    0.1494</td> <td>    0.183</td> <td>    0.817</td> <td> 0.414</td> <td>   -0.209</td> <td>    0.508</td>\n",
       "</tr>\n",
       "<tr>\n",
       "  <th>Genres_Casual;Brain Games</th>                    <td>    0.6445</td> <td>    0.207</td> <td>    3.115</td> <td> 0.002</td> <td>    0.239</td> <td>    1.050</td>\n",
       "</tr>\n",
       "<tr>\n",
       "  <th>Genres_Casual;Creativity</th>                     <td>    0.4208</td> <td>    0.305</td> <td>    1.379</td> <td> 0.168</td> <td>   -0.177</td> <td>    1.019</td>\n",
       "</tr>\n",
       "<tr>\n",
       "  <th>Genres_Casual;Education</th>                      <td>    0.3269</td> <td>    0.513</td> <td>    0.637</td> <td> 0.524</td> <td>   -0.679</td> <td>    1.333</td>\n",
       "</tr>\n",
       "<tr>\n",
       "  <th>Genres_Casual;Music & Video</th>                  <td>    0.3703</td> <td>    0.513</td> <td>    0.722</td> <td> 0.470</td> <td>   -0.635</td> <td>    1.376</td>\n",
       "</tr>\n",
       "<tr>\n",
       "  <th>Genres_Casual;Pretend Play</th>                   <td>    0.1616</td> <td>    0.142</td> <td>    1.136</td> <td> 0.256</td> <td>   -0.117</td> <td>    0.441</td>\n",
       "</tr>\n",
       "<tr>\n",
       "  <th>Genres_Comics</th>                                <td>    0.5573</td> <td>    0.215</td> <td>    2.592</td> <td> 0.010</td> <td>    0.136</td> <td>    0.979</td>\n",
       "</tr>\n",
       "<tr>\n",
       "  <th>Genres_Comics;Creativity</th>                     <td>    1.3010</td> <td>    0.363</td> <td>    3.586</td> <td> 0.000</td> <td>    0.590</td> <td>    2.012</td>\n",
       "</tr>\n",
       "<tr>\n",
       "  <th>Genres_Communication</th>                         <td>    1.1625</td> <td>    0.195</td> <td>    5.966</td> <td> 0.000</td> <td>    0.781</td> <td>    1.544</td>\n",
       "</tr>\n",
       "<tr>\n",
       "  <th>Genres_Communication;Creativity</th>              <td>    0.4343</td> <td>    0.513</td> <td>    0.847</td> <td> 0.397</td> <td>   -0.571</td> <td>    1.440</td>\n",
       "</tr>\n",
       "<tr>\n",
       "  <th>Genres_Dating</th>                                <td>    1.1262</td> <td>    0.196</td> <td>    5.748</td> <td> 0.000</td> <td>    0.742</td> <td>    1.510</td>\n",
       "</tr>\n",
       "<tr>\n",
       "  <th>Genres_Education</th>                             <td>    0.4513</td> <td>    0.095</td> <td>    4.739</td> <td> 0.000</td> <td>    0.265</td> <td>    0.638</td>\n",
       "</tr>\n",
       "<tr>\n",
       "  <th>Genres_Education;Action & Adventure</th>          <td>    0.7098</td> <td>    0.370</td> <td>    1.919</td> <td> 0.055</td> <td>   -0.015</td> <td>    1.435</td>\n",
       "</tr>\n",
       "<tr>\n",
       "  <th>Genres_Education;Brain Games</th>                 <td>    0.3830</td> <td>    0.517</td> <td>    0.741</td> <td> 0.459</td> <td>   -0.630</td> <td>    1.396</td>\n",
       "</tr>\n",
       "<tr>\n",
       "  <th>Genres_Education;Creativity</th>                  <td>    0.6833</td> <td>    0.228</td> <td>    3.000</td> <td> 0.003</td> <td>    0.237</td> <td>    1.130</td>\n",
       "</tr>\n",
       "<tr>\n",
       "  <th>Genres_Education;Education</th>                   <td>    0.5606</td> <td>    0.140</td> <td>    3.992</td> <td> 0.000</td> <td>    0.285</td> <td>    0.836</td>\n",
       "</tr>\n",
       "<tr>\n",
       "  <th>Genres_Education;Music & Video</th>               <td>    0.2920</td> <td>    0.368</td> <td>    0.793</td> <td> 0.428</td> <td>   -0.430</td> <td>    1.014</td>\n",
       "</tr>\n",
       "<tr>\n",
       "  <th>Genres_Education;Pretend Play</th>                <td>    0.6298</td> <td>    0.169</td> <td>    3.735</td> <td> 0.000</td> <td>    0.299</td> <td>    0.960</td>\n",
       "</tr>\n",
       "<tr>\n",
       "  <th>Genres_Educational</th>                           <td>    0.0246</td> <td>    0.151</td> <td>    0.163</td> <td> 0.871</td> <td>   -0.272</td> <td>    0.321</td>\n",
       "</tr>\n",
       "<tr>\n",
       "  <th>Genres_Educational;Action & Adventure</th>        <td>    0.5091</td> <td>    0.513</td> <td>    0.993</td> <td> 0.321</td> <td>   -0.496</td> <td>    1.514</td>\n",
       "</tr>\n",
       "<tr>\n",
       "  <th>Genres_Educational;Brain Games</th>               <td>    0.5545</td> <td>    0.243</td> <td>    2.279</td> <td> 0.023</td> <td>    0.078</td> <td>    1.031</td>\n",
       "</tr>\n",
       "<tr>\n",
       "  <th>Genres_Educational;Creativity</th>                <td>    0.2599</td> <td>    0.305</td> <td>    0.852</td> <td> 0.395</td> <td>   -0.338</td> <td>    0.858</td>\n",
       "</tr>\n",
       "<tr>\n",
       "  <th>Genres_Educational;Education</th>                 <td>    0.5076</td> <td>    0.131</td> <td>    3.875</td> <td> 0.000</td> <td>    0.251</td> <td>    0.764</td>\n",
       "</tr>\n",
       "<tr>\n",
       "  <th>Genres_Educational;Pretend Play</th>              <td>    0.3476</td> <td>    0.184</td> <td>    1.893</td> <td> 0.058</td> <td>   -0.012</td> <td>    0.708</td>\n",
       "</tr>\n",
       "<tr>\n",
       "  <th>Genres_Entertainment</th>                         <td>    0.2045</td> <td>    0.094</td> <td>    2.168</td> <td> 0.030</td> <td>    0.020</td> <td>    0.389</td>\n",
       "</tr>\n",
       "<tr>\n",
       "  <th>Genres_Entertainment;Action & Adventure</th>      <td>    0.4147</td> <td>    0.368</td> <td>    1.126</td> <td> 0.260</td> <td>   -0.307</td> <td>    1.137</td>\n",
       "</tr>\n",
       "<tr>\n",
       "  <th>Genres_Entertainment;Brain Games</th>             <td>    0.3907</td> <td>    0.245</td> <td>    1.596</td> <td> 0.111</td> <td>   -0.089</td> <td>    0.871</td>\n",
       "</tr>\n",
       "<tr>\n",
       "  <th>Genres_Entertainment;Creativity</th>              <td>    0.6081</td> <td>    0.306</td> <td>    1.987</td> <td> 0.047</td> <td>    0.008</td> <td>    1.208</td>\n",
       "</tr>\n",
       "<tr>\n",
       "  <th>Genres_Entertainment;Education</th>               <td>    0.6106</td> <td>    0.513</td> <td>    1.191</td> <td> 0.234</td> <td>   -0.395</td> <td>    1.616</td>\n",
       "</tr>\n",
       "<tr>\n",
       "  <th>Genres_Entertainment;Music & Video</th>           <td>    0.2726</td> <td>    0.178</td> <td>    1.528</td> <td> 0.127</td> <td>   -0.077</td> <td>    0.622</td>\n",
       "</tr>\n",
       "<tr>\n",
       "  <th>Genres_Entertainment;Pretend Play</th>            <td>   -0.0060</td> <td>    0.368</td> <td>   -0.016</td> <td> 0.987</td> <td>   -0.728</td> <td>    0.716</td>\n",
       "</tr>\n",
       "<tr>\n",
       "  <th>Genres_Events</th>                                <td>    1.3738</td> <td>    0.199</td> <td>    6.920</td> <td> 0.000</td> <td>    0.985</td> <td>    1.763</td>\n",
       "</tr>\n",
       "<tr>\n",
       "  <th>Genres_Finance</th>                               <td>    1.1756</td> <td>    0.195</td> <td>    6.044</td> <td> 0.000</td> <td>    0.794</td> <td>    1.557</td>\n",
       "</tr>\n",
       "<tr>\n",
       "  <th>Genres_Food & Drink</th>                          <td>    1.2066</td> <td>    0.196</td> <td>    6.150</td> <td> 0.000</td> <td>    0.822</td> <td>    1.591</td>\n",
       "</tr>\n",
       "<tr>\n",
       "  <th>Genres_Health & Fitness</th>                      <td>    1.2123</td> <td>    0.195</td> <td>    6.225</td> <td> 0.000</td> <td>    0.831</td> <td>    1.594</td>\n",
       "</tr>\n",
       "<tr>\n",
       "  <th>Genres_Health & Fitness;Action & Adventure</th>   <td>   -0.1412</td> <td>    0.513</td> <td>   -0.275</td> <td> 0.783</td> <td>   -1.147</td> <td>    0.865</td>\n",
       "</tr>\n",
       "<tr>\n",
       "  <th>Genres_Health & Fitness;Education</th>            <td>    0.5173</td> <td>    0.513</td> <td>    1.009</td> <td> 0.313</td> <td>   -0.488</td> <td>    1.523</td>\n",
       "</tr>\n",
       "<tr>\n",
       "  <th>Genres_House & Home</th>                          <td>    1.2376</td> <td>    0.198</td> <td>    6.263</td> <td> 0.000</td> <td>    0.850</td> <td>    1.625</td>\n",
       "</tr>\n",
       "<tr>\n",
       "  <th>Genres_Libraries & Demo</th>                      <td>    1.2512</td> <td>    0.197</td> <td>    6.342</td> <td> 0.000</td> <td>    0.864</td> <td>    1.638</td>\n",
       "</tr>\n",
       "<tr>\n",
       "  <th>Genres_Lifestyle</th>                             <td>    0.8837</td> <td>    0.214</td> <td>    4.139</td> <td> 0.000</td> <td>    0.465</td> <td>    1.302</td>\n",
       "</tr>\n",
       "<tr>\n",
       "  <th>Genres_Lifestyle;Education</th>                   <td>    0.3151</td> <td>    0.513</td> <td>    0.615</td> <td> 0.539</td> <td>   -0.690</td> <td>    1.320</td>\n",
       "</tr>\n",
       "<tr>\n",
       "  <th>Genres_Lifestyle;Pretend Play</th>                <td>    0.6496</td> <td>    0.361</td> <td>    1.797</td> <td> 0.072</td> <td>   -0.059</td> <td>    1.358</td>\n",
       "</tr>\n",
       "<tr>\n",
       "  <th>Genres_Maps & Navigation</th>                     <td>    1.1419</td> <td>    0.196</td> <td>    5.836</td> <td> 0.000</td> <td>    0.758</td> <td>    1.525</td>\n",
       "</tr>\n",
       "<tr>\n",
       "  <th>Genres_Medical</th>                               <td>    1.2430</td> <td>    0.195</td> <td>    6.389</td> <td> 0.000</td> <td>    0.862</td> <td>    1.624</td>\n",
       "</tr>\n",
       "<tr>\n",
       "  <th>Genres_Music</th>                                 <td>   -0.2408</td> <td>    0.164</td> <td>   -1.465</td> <td> 0.143</td> <td>   -0.563</td> <td>    0.081</td>\n",
       "</tr>\n",
       "<tr>\n",
       "  <th>Genres_Music & Audio;Music & Video</th>           <td>    0.6908</td> <td>    0.513</td> <td>    1.347</td> <td> 0.178</td> <td>   -0.315</td> <td>    1.696</td>\n",
       "</tr>\n",
       "<tr>\n",
       "  <th>Genres_Music;Music & Video</th>                   <td>    0.5682</td> <td>    0.305</td> <td>    1.863</td> <td> 0.063</td> <td>   -0.030</td> <td>    1.166</td>\n",
       "</tr>\n",
       "<tr>\n",
       "  <th>Genres_News & Magazines</th>                      <td>    1.1927</td> <td>    0.195</td> <td>    6.124</td> <td> 0.000</td> <td>    0.811</td> <td>    1.574</td>\n",
       "</tr>\n",
       "<tr>\n",
       "  <th>Genres_Parenting</th>                             <td>    0.7458</td> <td>    0.161</td> <td>    4.643</td> <td> 0.000</td> <td>    0.431</td> <td>    1.061</td>\n",
       "</tr>\n",
       "<tr>\n",
       "  <th>Genres_Parenting;Brain Games</th>                 <td> -2.11e-14</td> <td> 3.56e-13</td> <td>   -0.059</td> <td> 0.953</td> <td>-7.19e-13</td> <td> 6.77e-13</td>\n",
       "</tr>\n",
       "<tr>\n",
       "  <th>Genres_Parenting;Education</th>                   <td>    0.3198</td> <td>    0.291</td> <td>    1.098</td> <td> 0.272</td> <td>   -0.251</td> <td>    0.891</td>\n",
       "</tr>\n",
       "<tr>\n",
       "  <th>Genres_Parenting;Music & Video</th>               <td>    0.9041</td> <td>    0.216</td> <td>    4.186</td> <td> 0.000</td> <td>    0.481</td> <td>    1.328</td>\n",
       "</tr>\n",
       "<tr>\n",
       "  <th>Genres_Personalization</th>                       <td>    1.2721</td> <td>    0.195</td> <td>    6.538</td> <td> 0.000</td> <td>    0.891</td> <td>    1.654</td>\n",
       "</tr>\n",
       "<tr>\n",
       "  <th>Genres_Photography</th>                           <td>    1.1729</td> <td>    0.195</td> <td>    6.016</td> <td> 0.000</td> <td>    0.791</td> <td>    1.555</td>\n",
       "</tr>\n",
       "<tr>\n",
       "  <th>Genres_Productivity</th>                          <td>    1.2063</td> <td>    0.195</td> <td>    6.198</td> <td> 0.000</td> <td>    0.825</td> <td>    1.588</td>\n",
       "</tr>\n",
       "<tr>\n",
       "  <th>Genres_Puzzle</th>                                <td>    0.3511</td> <td>    0.100</td> <td>    3.520</td> <td> 0.000</td> <td>    0.156</td> <td>    0.547</td>\n",
       "</tr>\n",
       "<tr>\n",
       "  <th>Genres_Puzzle;Action & Adventure</th>             <td>    0.5358</td> <td>    0.513</td> <td>    1.045</td> <td> 0.296</td> <td>   -0.470</td> <td>    1.541</td>\n",
       "</tr>\n",
       "<tr>\n",
       "  <th>Genres_Puzzle;Brain Games</th>                    <td>    0.4105</td> <td>    0.200</td> <td>    2.053</td> <td> 0.040</td> <td>    0.018</td> <td>    0.802</td>\n",
       "</tr>\n",
       "<tr>\n",
       "  <th>Genres_Puzzle;Creativity</th>                     <td>    0.5240</td> <td>    0.513</td> <td>    1.021</td> <td> 0.307</td> <td>   -0.482</td> <td>    1.530</td>\n",
       "</tr>\n",
       "<tr>\n",
       "  <th>Genres_Puzzle;Education</th>                      <td>-4.179e-17</td> <td> 8.82e-17</td> <td>   -0.474</td> <td> 0.636</td> <td>-2.15e-16</td> <td> 1.31e-16</td>\n",
       "</tr>\n",
       "<tr>\n",
       "  <th>Genres_Racing</th>                                <td>   -0.1133</td> <td>    0.079</td> <td>   -1.434</td> <td> 0.152</td> <td>   -0.268</td> <td>    0.042</td>\n",
       "</tr>\n",
       "<tr>\n",
       "  <th>Genres_Racing;Action & Adventure</th>             <td>    0.4416</td> <td>    0.177</td> <td>    2.495</td> <td> 0.013</td> <td>    0.095</td> <td>    0.789</td>\n",
       "</tr>\n",
       "<tr>\n",
       "  <th>Genres_Racing;Pretend Play</th>                   <td>    0.9053</td> <td>    0.513</td> <td>    1.764</td> <td> 0.078</td> <td>   -0.101</td> <td>    1.911</td>\n",
       "</tr>\n",
       "<tr>\n",
       "  <th>Genres_Role Playing</th>                          <td>    0.1636</td> <td>    0.099</td> <td>    1.647</td> <td> 0.100</td> <td>   -0.031</td> <td>    0.358</td>\n",
       "</tr>\n",
       "<tr>\n",
       "  <th>Genres_Role Playing;Action & Adventure</th>       <td>    0.4661</td> <td>    0.513</td> <td>    0.908</td> <td> 0.364</td> <td>   -0.540</td> <td>    1.473</td>\n",
       "</tr>\n",
       "<tr>\n",
       "  <th>Genres_Role Playing;Brain Games</th>              <td>    0.3337</td> <td>    0.513</td> <td>    0.651</td> <td> 0.515</td> <td>   -0.672</td> <td>    1.339</td>\n",
       "</tr>\n",
       "<tr>\n",
       "  <th>Genres_Role Playing;Pretend Play</th>             <td>    0.1880</td> <td>    0.305</td> <td>    0.616</td> <td> 0.538</td> <td>   -0.410</td> <td>    0.786</td>\n",
       "</tr>\n",
       "<tr>\n",
       "  <th>Genres_Shopping</th>                              <td>    1.2175</td> <td>    0.195</td> <td>    6.240</td> <td> 0.000</td> <td>    0.835</td> <td>    1.600</td>\n",
       "</tr>\n",
       "<tr>\n",
       "  <th>Genres_Simulation</th>                            <td>    0.1948</td> <td>    0.097</td> <td>    2.014</td> <td> 0.044</td> <td>    0.005</td> <td>    0.384</td>\n",
       "</tr>\n",
       "<tr>\n",
       "  <th>Genres_Simulation;Action & Adventure</th>         <td>    0.3279</td> <td>    0.263</td> <td>    1.248</td> <td> 0.212</td> <td>   -0.187</td> <td>    0.843</td>\n",
       "</tr>\n",
       "<tr>\n",
       "  <th>Genres_Simulation;Education</th>                  <td>    0.2300</td> <td>    0.299</td> <td>    0.768</td> <td> 0.442</td> <td>   -0.357</td> <td>    0.817</td>\n",
       "</tr>\n",
       "<tr>\n",
       "  <th>Genres_Simulation;Pretend Play</th>               <td>    0.1939</td> <td>    0.305</td> <td>    0.636</td> <td> 0.525</td> <td>   -0.404</td> <td>    0.791</td>\n",
       "</tr>\n",
       "<tr>\n",
       "  <th>Genres_Social</th>                                <td>    1.2248</td> <td>    0.195</td> <td>    6.284</td> <td> 0.000</td> <td>    0.843</td> <td>    1.607</td>\n",
       "</tr>\n",
       "<tr>\n",
       "  <th>Genres_Sports</th>                                <td>    0.1582</td> <td>    0.360</td> <td>    0.440</td> <td> 0.660</td> <td>   -0.547</td> <td>    0.863</td>\n",
       "</tr>\n",
       "<tr>\n",
       "  <th>Genres_Sports;Action & Adventure</th>             <td>    0.1408</td> <td>    0.306</td> <td>    0.461</td> <td> 0.645</td> <td>   -0.458</td> <td>    0.740</td>\n",
       "</tr>\n",
       "<tr>\n",
       "  <th>Genres_Strategy</th>                              <td>    0.0896</td> <td>    0.107</td> <td>    0.841</td> <td> 0.400</td> <td>   -0.119</td> <td>    0.299</td>\n",
       "</tr>\n",
       "<tr>\n",
       "  <th>Genres_Strategy;Action & Adventure</th>           <td>    0.5188</td> <td>    0.368</td> <td>    1.410</td> <td> 0.159</td> <td>   -0.203</td> <td>    1.240</td>\n",
       "</tr>\n",
       "<tr>\n",
       "  <th>Genres_Strategy;Creativity</th>                   <td>    0.1210</td> <td>    0.513</td> <td>    0.236</td> <td> 0.814</td> <td>   -0.885</td> <td>    1.127</td>\n",
       "</tr>\n",
       "<tr>\n",
       "  <th>Genres_Strategy;Education</th>                    <td>         0</td> <td>        0</td> <td>      nan</td> <td>   nan</td> <td>        0</td> <td>        0</td>\n",
       "</tr>\n",
       "<tr>\n",
       "  <th>Genres_Tools</th>                                 <td>    0.6988</td> <td>    0.213</td> <td>    3.284</td> <td> 0.001</td> <td>    0.282</td> <td>    1.116</td>\n",
       "</tr>\n",
       "<tr>\n",
       "  <th>Genres_Tools;Education</th>                       <td>    0.9232</td> <td>    0.361</td> <td>    2.559</td> <td> 0.011</td> <td>    0.216</td> <td>    1.630</td>\n",
       "</tr>\n",
       "<tr>\n",
       "  <th>Genres_Travel & Local</th>                        <td>    0.7601</td> <td>    0.214</td> <td>    3.546</td> <td> 0.000</td> <td>    0.340</td> <td>    1.180</td>\n",
       "</tr>\n",
       "<tr>\n",
       "  <th>Genres_Travel & Local;Action & Adventure</th>     <td>    0.8549</td> <td>    0.361</td> <td>    2.369</td> <td> 0.018</td> <td>    0.148</td> <td>    1.562</td>\n",
       "</tr>\n",
       "<tr>\n",
       "  <th>Genres_Trivia</th>                                <td>   -0.3042</td> <td>    0.123</td> <td>   -2.476</td> <td> 0.013</td> <td>   -0.545</td> <td>   -0.063</td>\n",
       "</tr>\n",
       "<tr>\n",
       "  <th>Genres_Video Players & Editors</th>               <td>    1.1424</td> <td>    0.196</td> <td>    5.838</td> <td> 0.000</td> <td>    0.759</td> <td>    1.526</td>\n",
       "</tr>\n",
       "<tr>\n",
       "  <th>Genres_Video Players & Editors;Creativity</th>    <td>    0.0267</td> <td>    0.513</td> <td>    0.052</td> <td> 0.958</td> <td>   -0.979</td> <td>    1.032</td>\n",
       "</tr>\n",
       "<tr>\n",
       "  <th>Genres_Video Players & Editors;Music & Video</th> <td>    0.1609</td> <td>    0.513</td> <td>    0.314</td> <td> 0.754</td> <td>   -0.844</td> <td>    1.166</td>\n",
       "</tr>\n",
       "<tr>\n",
       "  <th>Genres_Weather</th>                               <td>    1.2088</td> <td>    0.197</td> <td>    6.127</td> <td> 0.000</td> <td>    0.822</td> <td>    1.596</td>\n",
       "</tr>\n",
       "<tr>\n",
       "  <th>Genres_Word</th>                                  <td>    0.1289</td> <td>    0.133</td> <td>    0.971</td> <td> 0.332</td> <td>   -0.131</td> <td>    0.389</td>\n",
       "</tr>\n",
       "</table>\n",
       "<table class=\"simpletable\">\n",
       "<tr>\n",
       "  <th>Omnibus:</th>       <td>1904.825</td> <th>  Durbin-Watson:     </th> <td>   2.016</td>\n",
       "</tr>\n",
       "<tr>\n",
       "  <th>Prob(Omnibus):</th>  <td> 0.000</td>  <th>  Jarque-Bera (JB):  </th> <td>9940.599</td>\n",
       "</tr>\n",
       "<tr>\n",
       "  <th>Skew:</th>           <td>-1.608</td>  <th>  Prob(JB):          </th> <td>    0.00</td>\n",
       "</tr>\n",
       "<tr>\n",
       "  <th>Kurtosis:</th>       <td> 8.812</td>  <th>  Cond. No.          </th> <td>5.47e+20</td>\n",
       "</tr>\n",
       "</table><br/><br/>Notes:<br/>[1] R² is computed without centering (uncentered) since the model does not contain a constant.<br/>[2] Standard Errors assume that the covariance matrix of the errors is correctly specified.<br/>[3] The smallest eigenvalue is 1.71e-29. This might indicate that there are<br/>strong multicollinearity problems or that the design matrix is singular."
      ],
      "text/plain": [
       "<class 'statsmodels.iolib.summary.Summary'>\n",
       "\"\"\"\n",
       "                                 OLS Regression Results                                \n",
       "=======================================================================================\n",
       "Dep. Variable:                 Rating   R-squared (uncentered):                   0.986\n",
       "Model:                            OLS   Adj. R-squared (uncentered):              0.986\n",
       "Method:                 Least Squares   F-statistic:                              3052.\n",
       "Date:                Sat, 03 Apr 2021   Prob (F-statistic):                        0.00\n",
       "Time:                        18:30:14   Log-Likelihood:                         -3914.3\n",
       "No. Observations:                5407   AIC:                                      8071.\n",
       "Df Residuals:                    5286   BIC:                                      8869.\n",
       "Df Model:                         121                                                  \n",
       "Covariance Type:            nonrobust                                                  \n",
       "================================================================================================================\n",
       "                                                   coef    std err          t      P>|t|      [0.025      0.975]\n",
       "----------------------------------------------------------------------------------------------------------------\n",
       "Reviews                                          0.1682      0.007     24.249      0.000       0.155       0.182\n",
       "Size                                          1.179e-07   3.78e-07      0.312      0.755   -6.22e-07    8.58e-07\n",
       "Installs                                        -0.1467      0.007    -21.108      0.000      -0.160      -0.133\n",
       "Price                                           -0.0069      0.005     -1.354      0.176      -0.017       0.003\n",
       "Category_AUTO_AND_VEHICLES                       1.2210      0.198      6.174      0.000       0.833       1.609\n",
       "Category_BEAUTY                                  1.3080      0.200      6.529      0.000       0.915       1.701\n",
       "Category_BOOKS_AND_REFERENCE                     1.3032      0.195      6.675      0.000       0.920       1.686\n",
       "Category_BUSINESS                                1.1990      0.195      6.161      0.000       0.817       1.581\n",
       "Category_COMICS                                  1.8583      0.307      6.059      0.000       1.257       2.460\n",
       "Category_COMMUNICATION                           1.1625      0.195      5.966      0.000       0.781       1.544\n",
       "Category_DATING                                  1.1262      0.196      5.748      0.000       0.742       1.510\n",
       "Category_EDUCATION                               2.0999      0.394      5.327      0.000       1.327       2.873\n",
       "Category_ENTERTAINMENT                           2.1382      0.395      5.409      0.000       1.363       2.913\n",
       "Category_EVENTS                                  1.3738      0.199      6.920      0.000       0.985       1.763\n",
       "Category_FAMILY                                  2.1427      0.388      5.516      0.000       1.381       2.904\n",
       "Category_FINANCE                                 1.1756      0.195      6.044      0.000       0.794       1.557\n",
       "Category_FOOD_AND_DRINK                          1.2066      0.196      6.150      0.000       0.822       1.591\n",
       "Category_GAME                                    2.3677      0.388      6.105      0.000       1.607       3.128\n",
       "Category_HEALTH_AND_FITNESS                      1.2123      0.195      6.225      0.000       0.831       1.594\n",
       "Category_HOUSE_AND_HOME                          1.2376      0.198      6.263      0.000       0.850       1.625\n",
       "Category_LIBRARIES_AND_DEMO                      1.2512      0.197      6.342      0.000       0.864       1.638\n",
       "Category_LIFESTYLE                               1.5333      0.309      4.964      0.000       0.928       2.139\n",
       "Category_MAPS_AND_NAVIGATION                     1.1419      0.196      5.836      0.000       0.758       1.525\n",
       "Category_MEDICAL                                 1.2430      0.195      6.389      0.000       0.862       1.624\n",
       "Category_NEWS_AND_MAGAZINES                      1.1927      0.195      6.124      0.000       0.811       1.574\n",
       "Category_PARENTING                               1.9698      0.311      6.343      0.000       1.361       2.579\n",
       "Category_PERSONALIZATION                         1.2721      0.195      6.538      0.000       0.891       1.654\n",
       "Category_PHOTOGRAPHY                             1.1729      0.195      6.016      0.000       0.791       1.555\n",
       "Category_PRODUCTIVITY                            1.2063      0.195      6.198      0.000       0.825       1.588\n",
       "Category_SHOPPING                                1.2175      0.195      6.240      0.000       0.835       1.600\n",
       "Category_SOCIAL                                  1.2248      0.195      6.284      0.000       0.843       1.607\n",
       "Category_SPORTS                                  2.2268      0.529      4.213      0.000       1.191       3.263\n",
       "Category_TOOLS                                   1.6219      0.309      5.257      0.000       1.017       2.227\n",
       "Category_TRAVEL_AND_LOCAL                        1.6150      0.309      5.230      0.000       1.010       2.220\n",
       "Category_VIDEO_PLAYERS                           1.1424      0.196      5.838      0.000       0.759       1.526\n",
       "Category_WEATHER                                 1.2088      0.197      6.127      0.000       0.822       1.596\n",
       "Type_Paid                                       -0.0364      0.037     -0.979      0.327      -0.109       0.037\n",
       "Content Rating_Everyone                          2.1761      0.387      5.628      0.000       1.418       2.934\n",
       "Content Rating_Everyone 10+                      2.1420      0.388      5.521      0.000       1.381       2.903\n",
       "Content Rating_Mature 17+                        2.1349      0.388      5.502      0.000       1.374       2.895\n",
       "Content Rating_Teen                              2.1858      0.387      5.652      0.000       1.428       2.944\n",
       "Content Rating_Unrated                        1.018e-11   3.29e-11      0.309      0.757   -5.44e-11    7.47e-11\n",
       "Genres_Action;Action & Adventure                 0.2793      0.192      1.452      0.146      -0.098       0.656\n",
       "Genres_Adventure                                -0.0333      0.079     -0.420      0.675      -0.189       0.122\n",
       "Genres_Adventure;Action & Adventure              0.2199      0.305      0.720      0.471      -0.379       0.819\n",
       "Genres_Adventure;Brain Games                 -6.715e-13   2.05e-11     -0.033      0.974   -4.09e-11    3.95e-11\n",
       "Genres_Adventure;Education                    -2.07e-11   3.72e-11     -0.557      0.578   -9.36e-11    5.22e-11\n",
       "Genres_Arcade                                    0.0569      0.065      0.880      0.379      -0.070       0.184\n",
       "Genres_Arcade;Action & Adventure                 0.2971      0.200      1.489      0.137      -0.094       0.688\n",
       "Genres_Arcade;Pretend Play                       0.5036      0.513      0.981      0.326      -0.502       1.510\n",
       "Genres_Art & Design                              2.7131      0.396      6.852      0.000       1.937       3.489\n",
       "Genres_Art & Design;Creativity                   2.0169      0.387      5.206      0.000       1.257       2.776\n",
       "Genres_Art & Design;Pretend Play                 2.4914      0.637      3.911      0.000       1.242       3.740\n",
       "Genres_Auto & Vehicles                           1.2210      0.198      6.174      0.000       0.833       1.609\n",
       "Genres_Beauty                                    1.3080      0.200      6.529      0.000       0.915       1.701\n",
       "Genres_Board                                    -0.0060      0.106     -0.057      0.954      -0.213       0.201\n",
       "Genres_Board;Action & Adventure                  0.1542      0.305      0.506      0.613      -0.444       0.752\n",
       "Genres_Board;Brain Games                         0.4477      0.191      2.346      0.019       0.074       0.822\n",
       "Genres_Board;Pretend Play                      7.12e-13   1.73e-11      0.041      0.967   -3.33e-11    3.47e-11\n",
       "Genres_Books & Reference                         1.3032      0.195      6.675      0.000       0.920       1.686\n",
       "Genres_Books & Reference;Education               0.2672      0.368      0.726      0.468      -0.454       0.989\n",
       "Genres_Business                                  1.1990      0.195      6.161      0.000       0.817       1.581\n",
       "Genres_Card                                     -0.0564      0.097     -0.580      0.562      -0.247       0.134\n",
       "Genres_Card;Action & Adventure                   0.0920      0.369      0.249      0.803      -0.632       0.816\n",
       "Genres_Casino                                    0.1389      0.105      1.320      0.187      -0.067       0.345\n",
       "Genres_Casual                                    0.0896      0.097      0.929      0.353      -0.100       0.279\n",
       "Genres_Casual;Action & Adventure                 0.1494      0.183      0.817      0.414      -0.209       0.508\n",
       "Genres_Casual;Brain Games                        0.6445      0.207      3.115      0.002       0.239       1.050\n",
       "Genres_Casual;Creativity                         0.4208      0.305      1.379      0.168      -0.177       1.019\n",
       "Genres_Casual;Education                          0.3269      0.513      0.637      0.524      -0.679       1.333\n",
       "Genres_Casual;Music & Video                      0.3703      0.513      0.722      0.470      -0.635       1.376\n",
       "Genres_Casual;Pretend Play                       0.1616      0.142      1.136      0.256      -0.117       0.441\n",
       "Genres_Comics                                    0.5573      0.215      2.592      0.010       0.136       0.979\n",
       "Genres_Comics;Creativity                         1.3010      0.363      3.586      0.000       0.590       2.012\n",
       "Genres_Communication                             1.1625      0.195      5.966      0.000       0.781       1.544\n",
       "Genres_Communication;Creativity                  0.4343      0.513      0.847      0.397      -0.571       1.440\n",
       "Genres_Dating                                    1.1262      0.196      5.748      0.000       0.742       1.510\n",
       "Genres_Education                                 0.4513      0.095      4.739      0.000       0.265       0.638\n",
       "Genres_Education;Action & Adventure              0.7098      0.370      1.919      0.055      -0.015       1.435\n",
       "Genres_Education;Brain Games                     0.3830      0.517      0.741      0.459      -0.630       1.396\n",
       "Genres_Education;Creativity                      0.6833      0.228      3.000      0.003       0.237       1.130\n",
       "Genres_Education;Education                       0.5606      0.140      3.992      0.000       0.285       0.836\n",
       "Genres_Education;Music & Video                   0.2920      0.368      0.793      0.428      -0.430       1.014\n",
       "Genres_Education;Pretend Play                    0.6298      0.169      3.735      0.000       0.299       0.960\n",
       "Genres_Educational                               0.0246      0.151      0.163      0.871      -0.272       0.321\n",
       "Genres_Educational;Action & Adventure            0.5091      0.513      0.993      0.321      -0.496       1.514\n",
       "Genres_Educational;Brain Games                   0.5545      0.243      2.279      0.023       0.078       1.031\n",
       "Genres_Educational;Creativity                    0.2599      0.305      0.852      0.395      -0.338       0.858\n",
       "Genres_Educational;Education                     0.5076      0.131      3.875      0.000       0.251       0.764\n",
       "Genres_Educational;Pretend Play                  0.3476      0.184      1.893      0.058      -0.012       0.708\n",
       "Genres_Entertainment                             0.2045      0.094      2.168      0.030       0.020       0.389\n",
       "Genres_Entertainment;Action & Adventure          0.4147      0.368      1.126      0.260      -0.307       1.137\n",
       "Genres_Entertainment;Brain Games                 0.3907      0.245      1.596      0.111      -0.089       0.871\n",
       "Genres_Entertainment;Creativity                  0.6081      0.306      1.987      0.047       0.008       1.208\n",
       "Genres_Entertainment;Education                   0.6106      0.513      1.191      0.234      -0.395       1.616\n",
       "Genres_Entertainment;Music & Video               0.2726      0.178      1.528      0.127      -0.077       0.622\n",
       "Genres_Entertainment;Pretend Play               -0.0060      0.368     -0.016      0.987      -0.728       0.716\n",
       "Genres_Events                                    1.3738      0.199      6.920      0.000       0.985       1.763\n",
       "Genres_Finance                                   1.1756      0.195      6.044      0.000       0.794       1.557\n",
       "Genres_Food & Drink                              1.2066      0.196      6.150      0.000       0.822       1.591\n",
       "Genres_Health & Fitness                          1.2123      0.195      6.225      0.000       0.831       1.594\n",
       "Genres_Health & Fitness;Action & Adventure      -0.1412      0.513     -0.275      0.783      -1.147       0.865\n",
       "Genres_Health & Fitness;Education                0.5173      0.513      1.009      0.313      -0.488       1.523\n",
       "Genres_House & Home                              1.2376      0.198      6.263      0.000       0.850       1.625\n",
       "Genres_Libraries & Demo                          1.2512      0.197      6.342      0.000       0.864       1.638\n",
       "Genres_Lifestyle                                 0.8837      0.214      4.139      0.000       0.465       1.302\n",
       "Genres_Lifestyle;Education                       0.3151      0.513      0.615      0.539      -0.690       1.320\n",
       "Genres_Lifestyle;Pretend Play                    0.6496      0.361      1.797      0.072      -0.059       1.358\n",
       "Genres_Maps & Navigation                         1.1419      0.196      5.836      0.000       0.758       1.525\n",
       "Genres_Medical                                   1.2430      0.195      6.389      0.000       0.862       1.624\n",
       "Genres_Music                                    -0.2408      0.164     -1.465      0.143      -0.563       0.081\n",
       "Genres_Music & Audio;Music & Video               0.6908      0.513      1.347      0.178      -0.315       1.696\n",
       "Genres_Music;Music & Video                       0.5682      0.305      1.863      0.063      -0.030       1.166\n",
       "Genres_News & Magazines                          1.1927      0.195      6.124      0.000       0.811       1.574\n",
       "Genres_Parenting                                 0.7458      0.161      4.643      0.000       0.431       1.061\n",
       "Genres_Parenting;Brain Games                  -2.11e-14   3.56e-13     -0.059      0.953   -7.19e-13    6.77e-13\n",
       "Genres_Parenting;Education                       0.3198      0.291      1.098      0.272      -0.251       0.891\n",
       "Genres_Parenting;Music & Video                   0.9041      0.216      4.186      0.000       0.481       1.328\n",
       "Genres_Personalization                           1.2721      0.195      6.538      0.000       0.891       1.654\n",
       "Genres_Photography                               1.1729      0.195      6.016      0.000       0.791       1.555\n",
       "Genres_Productivity                              1.2063      0.195      6.198      0.000       0.825       1.588\n",
       "Genres_Puzzle                                    0.3511      0.100      3.520      0.000       0.156       0.547\n",
       "Genres_Puzzle;Action & Adventure                 0.5358      0.513      1.045      0.296      -0.470       1.541\n",
       "Genres_Puzzle;Brain Games                        0.4105      0.200      2.053      0.040       0.018       0.802\n",
       "Genres_Puzzle;Creativity                         0.5240      0.513      1.021      0.307      -0.482       1.530\n",
       "Genres_Puzzle;Education                      -4.179e-17   8.82e-17     -0.474      0.636   -2.15e-16    1.31e-16\n",
       "Genres_Racing                                   -0.1133      0.079     -1.434      0.152      -0.268       0.042\n",
       "Genres_Racing;Action & Adventure                 0.4416      0.177      2.495      0.013       0.095       0.789\n",
       "Genres_Racing;Pretend Play                       0.9053      0.513      1.764      0.078      -0.101       1.911\n",
       "Genres_Role Playing                              0.1636      0.099      1.647      0.100      -0.031       0.358\n",
       "Genres_Role Playing;Action & Adventure           0.4661      0.513      0.908      0.364      -0.540       1.473\n",
       "Genres_Role Playing;Brain Games                  0.3337      0.513      0.651      0.515      -0.672       1.339\n",
       "Genres_Role Playing;Pretend Play                 0.1880      0.305      0.616      0.538      -0.410       0.786\n",
       "Genres_Shopping                                  1.2175      0.195      6.240      0.000       0.835       1.600\n",
       "Genres_Simulation                                0.1948      0.097      2.014      0.044       0.005       0.384\n",
       "Genres_Simulation;Action & Adventure             0.3279      0.263      1.248      0.212      -0.187       0.843\n",
       "Genres_Simulation;Education                      0.2300      0.299      0.768      0.442      -0.357       0.817\n",
       "Genres_Simulation;Pretend Play                   0.1939      0.305      0.636      0.525      -0.404       0.791\n",
       "Genres_Social                                    1.2248      0.195      6.284      0.000       0.843       1.607\n",
       "Genres_Sports                                    0.1582      0.360      0.440      0.660      -0.547       0.863\n",
       "Genres_Sports;Action & Adventure                 0.1408      0.306      0.461      0.645      -0.458       0.740\n",
       "Genres_Strategy                                  0.0896      0.107      0.841      0.400      -0.119       0.299\n",
       "Genres_Strategy;Action & Adventure               0.5188      0.368      1.410      0.159      -0.203       1.240\n",
       "Genres_Strategy;Creativity                       0.1210      0.513      0.236      0.814      -0.885       1.127\n",
       "Genres_Strategy;Education                             0          0        nan        nan           0           0\n",
       "Genres_Tools                                     0.6988      0.213      3.284      0.001       0.282       1.116\n",
       "Genres_Tools;Education                           0.9232      0.361      2.559      0.011       0.216       1.630\n",
       "Genres_Travel & Local                            0.7601      0.214      3.546      0.000       0.340       1.180\n",
       "Genres_Travel & Local;Action & Adventure         0.8549      0.361      2.369      0.018       0.148       1.562\n",
       "Genres_Trivia                                   -0.3042      0.123     -2.476      0.013      -0.545      -0.063\n",
       "Genres_Video Players & Editors                   1.1424      0.196      5.838      0.000       0.759       1.526\n",
       "Genres_Video Players & Editors;Creativity        0.0267      0.513      0.052      0.958      -0.979       1.032\n",
       "Genres_Video Players & Editors;Music & Video     0.1609      0.513      0.314      0.754      -0.844       1.166\n",
       "Genres_Weather                                   1.2088      0.197      6.127      0.000       0.822       1.596\n",
       "Genres_Word                                      0.1289      0.133      0.971      0.332      -0.131       0.389\n",
       "==============================================================================\n",
       "Omnibus:                     1904.825   Durbin-Watson:                   2.016\n",
       "Prob(Omnibus):                  0.000   Jarque-Bera (JB):             9940.599\n",
       "Skew:                          -1.608   Prob(JB):                         0.00\n",
       "Kurtosis:                       8.812   Cond. No.                     5.47e+20\n",
       "==============================================================================\n",
       "\n",
       "Notes:\n",
       "[1] R² is computed without centering (uncentered) since the model does not contain a constant.\n",
       "[2] Standard Errors assume that the covariance matrix of the errors is correctly specified.\n",
       "[3] The smallest eigenvalue is 1.71e-29. This might indicate that there are\n",
       "strong multicollinearity problems or that the design matrix is singular.\n",
       "\"\"\""
      ]
     },
     "execution_count": 79,
     "metadata": {},
     "output_type": "execute_result"
    }
   ],
   "source": [
    "from statsmodels.api import OLS\n",
    "olsResults = OLS( y_train,X_train).fit()\n",
    "olsResults.summary()"
   ]
  },
  {
   "cell_type": "markdown",
   "metadata": {},
   "source": [
    "## Results"
   ]
  },
  {
   "cell_type": "code",
   "execution_count": 80,
   "metadata": {},
   "outputs": [
    {
     "name": "stdout",
     "output_type": "stream",
     "text": [
      "R square of train data =  0.14892699986877223\n",
      "R square of test data =  0.1501633930074462\n",
      "Root Mean Squared Error= 0.5212886428029441\n"
     ]
    }
   ],
   "source": [
    "print(\"R square of train data = \",r2_train)\n",
    "print(\"R square of test data = \",r2_test)\n",
    "print('Root Mean Squared Error=',RMSE)"
   ]
  },
  {
   "cell_type": "markdown",
   "metadata": {},
   "source": [
    "### Exporting the datasets"
   ]
  },
  {
   "cell_type": "code",
   "execution_count": 81,
   "metadata": {},
   "outputs": [],
   "source": [
    "#inp1.to_csv('inp1.csv', index = False)\n",
    "#inp2.to_csv('inp2.csv', index = False)\n",
    "#df_train.to_csv('df_train.csv', index = False)\n",
    "#df_test.to_csv('df_test.csv', index = False)\n",
    "#results.to_csv('Predicted Results.csv', index = False)"
   ]
  }
 ],
 "metadata": {
  "kernelspec": {
   "display_name": "Python 3",
   "language": "python",
   "name": "python3"
  },
  "language_info": {
   "codemirror_mode": {
    "name": "ipython",
    "version": 3
   },
   "file_extension": ".py",
   "mimetype": "text/x-python",
   "name": "python",
   "nbconvert_exporter": "python",
   "pygments_lexer": "ipython3",
   "version": "3.8.5"
  }
 },
 "nbformat": 4,
 "nbformat_minor": 4
}
